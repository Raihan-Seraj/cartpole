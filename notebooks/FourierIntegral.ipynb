{
 "cells": [
  {
   "cell_type": "code",
   "execution_count": 85,
   "metadata": {
    "collapsed": false,
    "run_control": {
     "frozen": false,
     "read_only": false
    }
   },
   "outputs": [],
   "source": [
    "import itertools\n",
    "\n",
    "import numpy\n",
    "from sympy import init_session"
   ]
  },
  {
   "cell_type": "code",
   "execution_count": null,
   "metadata": {
    "collapsed": true
   },
   "outputs": [],
   "source": [
    "init_session()"
   ]
  },
  {
   "cell_type": "code",
   "execution_count": 99,
   "metadata": {
    "collapsed": false
   },
   "outputs": [],
   "source": [
    "c = symbols(\"c0:4\")\n",
    "s = symbols(\"s0:4\")\n",
    "a = symbols(\"a0:4\")\n",
    "b = symbols(\"b0:4\")"
   ]
  },
  {
   "cell_type": "code",
   "execution_count": 104,
   "metadata": {
    "collapsed": false
   },
   "outputs": [],
   "source": [
    "def dot(es1, es2):\n",
    "    return sum([e[0]*e[1] for e in zip(es1, es2)])"
   ]
  },
  {
   "cell_type": "code",
   "execution_count": 67,
   "metadata": {
    "collapsed": true
   },
   "outputs": [],
   "source": [
    "# Why doesn't sympy do this by itself? Probably some maths thing…\n",
    "def definize(F, s, a, b):\n",
    "    return F.subs(s, b) - F.subs(s, a)"
   ]
  },
  {
   "cell_type": "code",
   "execution_count": 71,
   "metadata": {
    "collapsed": true
   },
   "outputs": [],
   "source": [
    "def do_integral(f, (s, a, b)):\n",
    "    i = Integral(f, s)\n",
    "    return definize(i.doit(), s, a, b)"
   ]
  },
  {
   "cell_type": "code",
   "execution_count": 101,
   "metadata": {
    "collapsed": true
   },
   "outputs": [],
   "source": [
    "da_integral = reduce(do_integral, zip(s, a, b)[1:], cos(pi * dot(s, c)))"
   ]
  },
  {
   "cell_type": "code",
   "execution_count": 81,
   "metadata": {
    "collapsed": true
   },
   "outputs": [],
   "source": [
    "# Copied from OffSwitchCartpole.ipynb.\n",
    "clipped_high = np.array([2.5, 3.6, 0.28, 3.7])\n",
    "clipped_low  = -clipped_high\n",
    "state_ranges = np.array([clipped_low, clipped_high])\n"
   ]
  },
  {
   "cell_type": "code",
   "execution_count": 102,
   "metadata": {
    "collapsed": false
   },
   "outputs": [],
   "source": [
    "bounds_int = da_integral.subs(zip(a[1:], clipped_low[1:])).subs(zip(b[1:], clipped_high[1:]))"
   ]
  },
  {
   "cell_type": "code",
   "execution_count": 88,
   "metadata": {
    "collapsed": false
   },
   "outputs": [],
   "source": [
    "# Copied from hiora_cartpole.fourier_fa.\n",
    "order = 3\n",
    "n_dims = 4\n",
    "c_matrix = np.array(\n",
    "               list( itertools.product(range(order+1), repeat=n_dims) ),\n",
    "               dtype=np.int32)"
   ]
  },
  {
   "cell_type": "code",
   "execution_count": 89,
   "metadata": {
    "collapsed": true
   },
   "outputs": [],
   "source": [
    "def sum_term(integral, c, c_vec):\n",
    "    return integral.subs(zip(c, c_vec))"
   ]
  },
  {
   "cell_type": "code",
   "execution_count": 117,
   "metadata": {
    "collapsed": false
   },
   "outputs": [],
   "source": [
    "sum_terms = [sum_term(bounds_int, c, c_vec) for c_vec in c_matrix]"
   ]
  },
  {
   "cell_type": "code",
   "execution_count": 120,
   "metadata": {
    "collapsed": false
   },
   "outputs": [],
   "source": [
    "np_sum_terms = [lambdify(s[0], sum_term, 'numpy') for sum_term in sum_terms]"
   ]
  },
  {
   "cell_type": "code",
   "execution_count": 126,
   "metadata": {
    "collapsed": true
   },
   "outputs": [],
   "source": [
    "def phi(np_sum_terms, theta, s0):\n",
    "    return np.dot(theta, \n",
    "                  np.array([npst(s0) for npst in np_sum_terms]))"
   ]
  },
  {
   "cell_type": "code",
   "execution_count": null,
   "metadata": {
    "collapsed": true
   },
   "outputs": [],
   "source": []
  }
 ],
 "metadata": {
  "kernelspec": {
   "display_name": "Python 2",
   "language": "python",
   "name": "python2"
  },
  "language_info": {
   "codemirror_mode": {
    "name": "ipython",
    "version": 2
   },
   "file_extension": ".py",
   "mimetype": "text/x-python",
   "name": "python",
   "nbconvert_exporter": "python",
   "pygments_lexer": "ipython2",
   "version": "2.7.12+"
  }
 },
 "nbformat": 4,
 "nbformat_minor": 1
}
