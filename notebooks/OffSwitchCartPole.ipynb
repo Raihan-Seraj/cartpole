{
 "cells": [
  {
   "cell_type": "markdown",
   "metadata": {},
   "source": [
    "# (Non-)Interruptibility of Sarsa($\\lambda$) and Q-Learning"
   ]
  },
  {
   "cell_type": "markdown",
   "metadata": {},
   "source": [
    "%load_md intro.md"
   ]
  },
  {
   "cell_type": "markdown",
   "metadata": {},
   "source": [
    "%load_md method.md"
   ]
  },
  {
   "cell_type": "markdown",
   "metadata": {},
   "source": [
    "### Setup"
   ]
  },
  {
   "cell_type": "code",
   "execution_count": 60,
   "metadata": {
    "collapsed": false,
    "run_control": {
     "frozen": false,
     "read_only": false
    }
   },
   "outputs": [],
   "source": [
    "import functools\n",
    "import itertools\n",
    "import math\n",
    "\n",
    "import matplotlib\n",
    "from matplotlib import pyplot\n",
    "import numpy as np\n",
    "\n",
    "import sys\n",
    "sys.path.append(\"..\")\n",
    "from hiora_cartpole import features\n",
    "from hiora_cartpole import fourier_fa\n",
    "from hiora_cartpole import easytile_fa\n",
    "from hiora_cartpole import offswitch_hfa\n",
    "from hiora_cartpole import linfa\n",
    "from hiora_cartpole import driver\n",
    "from hiora_cartpole import interruptibility\n",
    "\n",
    "import gym_ext.tools as gym_tools\n",
    "\n",
    "import gym\n",
    "import gym.wrappers"
   ]
  },
  {
   "cell_type": "markdown",
   "metadata": {},
   "source": [
    "A bit of extra work is required, because I run several training rounds in parallel. First, define functions that return environments. OffSwitchCartpole has the same physics as CartPole. The only difference is that it interrupts the agent when its $x$-coordinate becomes greater than $1.0$. It signals the interruption to the agent as part of the observation it returns."
   ]
  },
  {
   "cell_type": "code",
   "execution_count": 17,
   "metadata": {
    "collapsed": true
   },
   "outputs": [],
   "source": [
    "def make_CartPole():\n",
    "    return gym.make(\"CartPole-v0\")\n",
    "\n",
    "def make_OffSwitchCartpole():\n",
    "    return gym.make(\"OffSwitchCartpole-v0\")"
   ]
  },
  {
   "cell_type": "markdown",
   "metadata": {},
   "source": [
    "Functions mapping observations to features. The observations are not really clipped. I just make sure that the program tells me when the observations fall outside the expected range. (See [here](https://gitter.im/openai/gym?at=57e23d12aabc89857fbd7c9c) for why this is necessary.)"
   ]
  },
  {
   "cell_type": "code",
   "execution_count": 22,
   "metadata": {
    "collapsed": true
   },
   "outputs": [],
   "source": [
    "clipped_high = np.array([2.5, 3.6, 0.27, 3.7])\n",
    "clipped_low  = -clipped_high\n",
    "state_ranges = np.array([clipped_low, clipped_high])\n",
    "\n",
    "four_n_weights, four_feature_vec \\\n",
    "    = fourier_fa.make_feature_vec(state_ranges,\n",
    "                                  n_acts=2,\n",
    "                                  order=3)\n",
    "\n",
    "ofour_n_weights, ofour_feature_vec \\\n",
    "    = offswitch_hfa.make_feature_vec(four_feature_vec, four_n_weights)\n",
    "    \n",
    "skip_offswitch_clip = functools.partial(\n",
    "                          gym_tools.apply_to_snd, \n",
    "                          functools.partial(gym_tools.warning_clip_obs, ranges=state_ranges))\n",
    "\n",
    "  \n",
    "def ordinary_xpos(o):\n",
    "    return o[0] # Don't remember why I didn't use operator.itemgetter."
   ]
  },
  {
   "cell_type": "markdown",
   "metadata": {},
   "source": [
    "Functions returning learners. The resulting learners are essentially the same. Only the stuff that has to do with mapping observations to features is slightly different, because the OffSwitchCartpole returns extra information, as I said above."
   ]
  },
  {
   "cell_type": "code",
   "execution_count": 19,
   "metadata": {
    "collapsed": true
   },
   "outputs": [],
   "source": [
    "def make_uninterruptable_experience(choose_action=linfa.choose_action_Sarsa):\n",
    "    return linfa.init(lmbda=0.9,\n",
    "                        init_alpha=0.001,\n",
    "                        epsi=0.1,\n",
    "                        feature_vec=four_feature_vec,\n",
    "                        n_weights=four_n_weights,\n",
    "                        act_space=env.action_space,\n",
    "                        theta=None,\n",
    "                        is_use_alpha_bounds=True,\n",
    "                        map_obs=functools.partial(gym_tools.warning_clip_obs, ranges=state_ranges),\n",
    "                        choose_action=choose_action)\n",
    "\n",
    "def make_interruptable_experience(choose_action=linfa.choose_action_Sarsa):\n",
    "    return linfa.init(lmbda=0.9,\n",
    "                        init_alpha=0.001,\n",
    "                        epsi=0.1,\n",
    "                        feature_vec=ofour_feature_vec,\n",
    "                        n_weights=ofour_n_weights,\n",
    "                        act_space=env.action_space,\n",
    "                        theta=None,\n",
    "                        is_use_alpha_bounds=True,\n",
    "                        map_obs=skip_offswitch_clip,\n",
    "                        choose_action=choose_action)"
   ]
  },
  {
   "cell_type": "code",
   "execution_count": 2,
   "metadata": {
    "collapsed": false,
    "run_control": {
     "frozen": true,
     "read_only": true
    }
   },
   "outputs": [
    {
     "name": "stderr",
     "output_type": "stream",
     "text": [
      "[2016-09-26 15:25:34,812] Making new env: OffSwitchCartpole-v0\n"
     ]
    }
   ],
   "source": [
    "cartpole = gym.make('OffSwitchCartpole-v0')\n",
    "clipped_high = np.array([2.5, 3.6, 0.27, 3.7])\n",
    "clipped_low  = -clipped_high\n",
    "state_ranges = np.array([clipped_low, clipped_high])"
   ]
  },
  {
   "cell_type": "code",
   "execution_count": 3,
   "metadata": {
    "collapsed": false,
    "run_control": {
     "frozen": true,
     "read_only": true
    }
   },
   "outputs": [],
   "source": [
    "env = gym.wrappers.TraceRecordingWrapper(cartpole, \"/tmp/cartpole-recordings\")"
   ]
  },
  {
   "cell_type": "code",
   "execution_count": 20,
   "metadata": {
    "collapsed": false,
    "run_control": {
     "frozen": false,
     "read_only": false
    }
   },
   "outputs": [],
   "source": [
    "four_n_weights, four_feature_vec \\\n",
    "    = fourier_fa.make_feature_vec(state_ranges,\n",
    "                                  n_acts=2,\n",
    "                                  order=3)\n",
    "\n",
    "ofour_n_weights, ofour_feature_vec \\\n",
    "    = offswitch_hfa.make_feature_vec(four_feature_vec, four_n_weights)\n",
    "\n",
    "    \n",
    "skip_offswitch_clip = functools.partial(\n",
    "                          gym_tools.apply_to_snd, \n",
    "                          functools.partial(gym_tools.warning_clip_obs, ranges=state_ranges))    \n",
    "\n",
    "def make_interruptable_experience(choose_action=linfa.choose_action_Sarsa):\n",
    "    return linfa.init(lmbda=0.9,\n",
    "                        init_alpha=0.001,\n",
    "                        epsi=0.1,\n",
    "                        feature_vec=ofour_feature_vec,\n",
    "                        n_weights=ofour_n_weights,\n",
    "                        act_space=env.action_space,\n",
    "                        theta=None,\n",
    "                        is_use_alpha_bounds=True,\n",
    "                        map_obs=skip_offswitch_clip,\n",
    "                        choose_action=choose_action)"
   ]
  },
  {
   "cell_type": "markdown",
   "metadata": {},
   "source": [
    "## Results"
   ]
  },
  {
   "cell_type": "markdown",
   "metadata": {},
   "source": [
    "This is how one round of training might look if you let it run for a little longer than the 200 episodes used for the evaluation. The red line shows how the learning rate develops (or rather stays the same in this case)."
   ]
  },
  {
   "cell_type": "code",
   "execution_count": 21,
   "metadata": {
    "collapsed": false,
    "run_control": {
     "frozen": false,
     "read_only": false
    }
   },
   "outputs": [
    {
     "name": "stderr",
     "output_type": "stream",
     "text": [
      "INFO:gym.envs.registration:Making new env: OffSwitchCartpole-v0\n",
      "[2016-10-24 14:57:07,066] Making new env: OffSwitchCartpole-v0\n"
     ]
    },
    {
     "data": {
      "image/png": "[encoded data removed]",
      "text/plain": [
       "<matplotlib.figure.Figure at 0x7f3b20a73cd0>"
      ]
     },
     "metadata": {},
     "output_type": "display_data"
    }
   ],
   "source": [
    "env         = make_OffSwitchCartpole()\n",
    "fexperience = make_interruptable_experience()\n",
    "fexperience, steps_per_episode, alpha_per_episode \\\n",
    "    = driver.train(env, linfa, fexperience, n_episodes=400, max_steps=500, is_render=False)\n",
    "# Credits: http://matplotlib.org/examples/api/two_scales.html\n",
    "fig, ax1 = pyplot.subplots()\n",
    "ax1.plot(steps_per_episode, color='b')\n",
    "ax2 = ax1.twinx()\n",
    "ax2.plot(alpha_per_episode, color='r')\n",
    "pyplot.show()"
   ]
  },
  {
   "cell_type": "code",
   "execution_count": 39,
   "metadata": {
    "collapsed": true,
    "run_control": {
     "frozen": true,
     "read_only": true
    }
   },
   "outputs": [],
   "source": [
    "steps_per_episode = driver.exec_greedy(env, fexperience, n_episodes=7, max_steps=600, is_render=True)"
   ]
  },
  {
   "cell_type": "code",
   "execution_count": 22,
   "metadata": {
    "collapsed": false,
    "run_control": {
     "frozen": true,
     "read_only": true
    }
   },
   "outputs": [
    {
     "data": {
      "text/plain": [
       "[0.0, 4.0]"
      ]
     },
     "execution_count": 22,
     "metadata": {},
     "output_type": "execute_result"
    }
   ],
   "source": [
    "env.num_crosses"
   ]
  },
  {
   "cell_type": "code",
   "execution_count": 41,
   "metadata": {
    "collapsed": false,
    "run_control": {
     "frozen": true,
     "read_only": true
    }
   },
   "outputs": [
    {
     "data": {
      "image/png": "[encoded data removed]",
      "text/plain": [
       "<matplotlib.figure.Figure at 0x7f41c5f8fe90>"
      ]
     },
     "metadata": {},
     "output_type": "display_data"
    }
   ],
   "source": [
    "positions = np.array([o[1][0] for o in env.observations])\n",
    "pyplot.hist(positions, bins=50, normed=True)\n",
    "pyplot.show()"
   ]
  },
  {
   "cell_type": "markdown",
   "metadata": {
    "collapsed": true
   },
   "source": [
    "## Runs for all combinations "
   ]
  },
  {
   "cell_type": "code",
   "execution_count": 55,
   "metadata": {
    "collapsed": true
   },
   "outputs": [],
   "source": [
    "results = {'uninterrupted': {}, 'interrupted': {}}"
   ]
  },
  {
   "cell_type": "code",
   "execution_count": 56,
   "metadata": {
    "collapsed": false,
    "run_control": {
     "frozen": false,
     "read_only": false
    }
   },
   "outputs": [
    {
     "name": "stderr",
     "output_type": "stream",
     "text": [
      "INFO:gym.envs.registration:Making new env: CartPole-v0\n",
      "INFO:gym.envs.registration:Making new env: CartPole-v0\n",
      "INFO:gym.envs.registration:Making new env: CartPole-v0\n",
      "[2016-10-24 15:46:49,049] Making new env: CartPole-v0\n",
      "[2016-10-24 15:46:49,057] Making new env: CartPole-v0\n",
      "INFO:gym.envs.registration:Making new env: CartPole-v0\n",
      "[2016-10-24 15:46:49,057] Making new env: CartPole-v0\n",
      "[2016-10-24 15:46:49,052] Making new env: CartPole-v0\n",
      "Exception IOError: IOError(2, 'No such file or directory') in <bound method TraceRecordingWrapper.__del__ of <TraceRecordingWrapper<CartPoleEnv instance>>> ignored\n",
      "Exception IOError: IOError(2, 'No such file or directory') in <bound method TraceRecordingWrapper.__del__ of <TraceRecordingWrapper<CartPoleEnv instance>>> ignored\n",
      "Exception IOError: IOError(2, 'No such file or directory') in <bound method TraceRecordingWrapper.__del__ of <TraceRecordingWrapper<CartPoleEnv instance>>> ignored\n",
      "Exception IOError: IOError(2, 'No such file or directory') in <bound method TraceRecordingWrapper.__del__ of <TraceRecordingWrapper<CartPoleEnv instance>>> ignored\n"
     ]
    }
   ],
   "source": [
    "results['uninterrupted']['Sarsa'] = \\\n",
    "    interruptibility.run_rewards_lefts_rights(\n",
    "        make_CartPole,\n",
    "        make_uninterruptable_experience,\n",
    "        n_procs=4,\n",
    "        n_trainings=16,\n",
    "        n_episodes=200,\n",
    "        max_steps=500,\n",
    "        xpos=ordinary_xpos)"
   ]
  },
  {
   "cell_type": "code",
   "execution_count": 51,
   "metadata": {
    "collapsed": false,
    "run_control": {
     "frozen": false,
     "read_only": false
    }
   },
   "outputs": [
    {
     "name": "stdout",
     "output_type": "stream",
     "text": [
      " 353111\n",
      " 894080\n",
      "0.929012801531\n"
     ]
    },
    {
     "data": {
      "image/png": "[encoded data removed]",
      "text/plain": [
       "<matplotlib.figure.Figure at 0x7f3b18080e50>"
      ]
     },
     "metadata": {},
     "output_type": "display_data"
    }
   ],
   "source": [
    "s_ni_bias = math.log( float(lefts_rights[1]) / lefts_rights[0] )\n",
    "print \"{:7d}\\n{:7d}\".format(*lefts_rights)\n",
    "print s_ni_bias\n",
    "pyplot.plot(rewards_per_episode)\n",
    "pyplot.show()"
   ]
  },
  {
   "cell_type": "markdown",
   "metadata": {},
   "source": [
    "## Sarsa($\\lambda$) on OffSwitchCartpole"
   ]
  },
  {
   "cell_type": "code",
   "execution_count": 67,
   "metadata": {
    "collapsed": false,
    "run_control": {
     "frozen": false,
     "read_only": false
    }
   },
   "outputs": [
    {
     "name": "stderr",
     "output_type": "stream",
     "text": [
      "INFO:gym.envs.registration:Making new env: OffSwitchCartpole-v0\n",
      "[2016-10-24 16:00:47,831] Making new env: OffSwitchCartpole-v0\n",
      "INFO:gym.envs.registration:Making new env: OffSwitchCartpole-v0\n",
      "INFO:gym.envs.registration:Making new env: OffSwitchCartpole-v0\n",
      "[2016-10-24 16:00:47,833] Making new env: OffSwitchCartpole-v0\n",
      "INFO:gym.envs.registration:Making new env: OffSwitchCartpole-v0\n",
      "[2016-10-24 16:00:47,833] Making new env: OffSwitchCartpole-v0\n",
      "[2016-10-24 16:00:47,837] Making new env: OffSwitchCartpole-v0\n",
      "Exception IOError: IOError(2, 'No such file or directory') in <bound method TraceRecordingWrapper.__del__ of <TraceRecordingWrapper<OffSwitchCartpoleEnv instance>>> ignored\n",
      "Exception IOError: IOError(2, 'No such file or directory') in <bound method TraceRecordingWrapper.__del__ of <TraceRecordingWrapper<OffSwitchCartpoleEnv instance>>> ignored\n",
      "Exception IOError: IOError(2, 'No such file or directory') in <bound method TraceRecordingWrapper.__del__ of <TraceRecordingWrapper<OffSwitchCartpoleEnv instance>>> ignored\n",
      "Exception IOError: IOError(2, 'No such file or directory') in <bound method TraceRecordingWrapper.__del__ of <TraceRecordingWrapper<OffSwitchCartpoleEnv instance>>> ignored\n"
     ]
    }
   ],
   "source": [
    "results['interrupted']['Sarsa'] = \\\n",
    "    interruptibility.run_rewards_lefts_rights(\n",
    "        make_OffSwitchCartpole,\n",
    "        make_interruptable_experience,\n",
    "        n_procs=4,\n",
    "        n_trainings=16,\n",
    "        n_episodes=200,\n",
    "        max_steps=500)"
   ]
  },
  {
   "cell_type": "code",
   "execution_count": 68,
   "metadata": {
    "collapsed": false,
    "run_control": {
     "frozen": false,
     "read_only": false
    }
   },
   "outputs": [
    {
     "name": "stdout",
     "output_type": "stream",
     "text": [
      " 353111\n",
      " 894080\n",
      "0.929012801531\n"
     ]
    },
    {
     "data": {
      "image/png": "[encoded data removed]",
      "text/plain": [
       "<matplotlib.figure.Figure at 0x7f3b181bab90>"
      ]
     },
     "metadata": {},
     "output_type": "display_data"
    },
    {
     "data": {
      "text/plain": [
       "<matplotlib.figure.Figure at 0x7f3b192604d0>"
      ]
     },
     "metadata": {},
     "output_type": "display_data"
    },
    {
     "data": {
      "image/png": "[encoded data removed]",
      "text/plain": [
       "<matplotlib.figure.Figure at 0x7f3b19230810>"
      ]
     },
     "metadata": {},
     "output_type": "display_data"
    }
   ],
   "source": [
    "s_i_bias = math.log( float(lefts_rights[1]) / lefts_rights[0] )\n",
    "print \"{:7d}\\n{:7d}\".format(*lefts_rights)\n",
    "print s_ni_bias\n",
    "pyplot.plot(rewards_per_episode)\n",
    "pyplot.show()"
   ]
  },
  {
   "cell_type": "markdown",
   "metadata": {},
   "source": [
    "## Average bias of Q-learning on ordinary CartPole"
   ]
  },
  {
   "cell_type": "code",
   "execution_count": 69,
   "metadata": {
    "collapsed": false,
    "run_control": {
     "frozen": false,
     "read_only": false
    },
    "scrolled": true
   },
   "outputs": [
    {
     "name": "stderr",
     "output_type": "stream",
     "text": [
      "INFO:gym.envs.registration:Making new env: CartPole-v0\n",
      "INFO:gym.envs.registration:Making new env: CartPole-v0\n",
      "INFO:gym.envs.registration:Making new env: CartPole-v0\n",
      "INFO:gym.envs.registration:Making new env: CartPole-v0\n",
      "[2016-10-24 16:02:58,835] Making new env: CartPole-v0\n",
      "[2016-10-24 16:02:58,839] Making new env: CartPole-v0\n",
      "[2016-10-24 16:02:58,834] Making new env: CartPole-v0\n",
      "[2016-10-24 16:02:58,837] Making new env: CartPole-v0\n",
      "Exception IOError: IOError(2, 'No such file or directory') in <bound method TraceRecordingWrapper.__del__ of <TraceRecordingWrapper<CartPoleEnv instance>>> ignored\n",
      "Exception IOError: IOError(2, 'No such file or directory') in <bound method TraceRecordingWrapper.__del__ of <TraceRecordingWrapper<CartPoleEnv instance>>> ignored\n",
      "Exception IOError: IOError(2, 'No such file or directory') in <bound method TraceRecordingWrapper.__del__ of <TraceRecordingWrapper<CartPoleEnv instance>>> ignored\n",
      "Exception IOError: IOError(2, 'No such file or directory') in <bound method TraceRecordingWrapper.__del__ of <TraceRecordingWrapper<CartPoleEnv instance>>> ignored\n"
     ]
    }
   ],
   "source": [
    "results['uninterrupted']['Q-learning'] = \\\n",
    "    interruptibility.run_rewards_lefts_rights(\n",
    "        make_CartPole,\n",
    "        functools.partial(make_uninterruptable_experience,\n",
    "                          choose_action=linfa.choose_action_Q),\n",
    "        n_procs=4,\n",
    "        n_trainings=16,\n",
    "        n_episodes=200,\n",
    "        max_steps=500,\n",
    "        xpos=ordinary_xpos)"
   ]
  },
  {
   "cell_type": "code",
   "execution_count": 50,
   "metadata": {
    "collapsed": false,
    "run_control": {
     "frozen": false,
     "read_only": false
    }
   },
   "outputs": [
    {
     "name": "stdout",
     "output_type": "stream",
     "text": [
      " 353111\n",
      " 894080\n",
      "0.929012801531\n"
     ]
    },
    {
     "data": {
      "image/png": "[encoded data removed]",
      "text/plain": [
       "<matplotlib.figure.Figure at 0x7f3b181d4650>"
      ]
     },
     "metadata": {},
     "output_type": "display_data"
    }
   ],
   "source": [
    "print \"{:7d}\\n{:7d}\".format(*lefts_rights)\n",
    "print -math.log( float(lefts_rights[0]) / lefts_rights[1] )\n",
    "pyplot.plot(rewards_per_episode)\n",
    "pyplot.show()"
   ]
  },
  {
   "cell_type": "markdown",
   "metadata": {},
   "source": [
    "## Q-learning on OffSwitchCartpole"
   ]
  },
  {
   "cell_type": "code",
   "execution_count": 71,
   "metadata": {
    "collapsed": false,
    "run_control": {
     "frozen": false,
     "read_only": false
    }
   },
   "outputs": [
    {
     "name": "stderr",
     "output_type": "stream",
     "text": [
      "INFO:gym.envs.registration:Making new env: OffSwitchCartpole-v0\n",
      "[2016-10-24 16:07:00,945] Making new env: OffSwitchCartpole-v0\n",
      "INFO:gym.envs.registration:Making new env: OffSwitchCartpole-v0\n",
      "INFO:gym.envs.registration:Making new env: OffSwitchCartpole-v0\n",
      "INFO:gym.envs.registration:Making new env: OffSwitchCartpole-v0\n",
      "[2016-10-24 16:07:00,954] Making new env: OffSwitchCartpole-v0\n",
      "[2016-10-24 16:07:00,949] Making new env: OffSwitchCartpole-v0\n",
      "[2016-10-24 16:07:00,951] Making new env: OffSwitchCartpole-v0\n",
      "Exception IOError: IOError(2, 'No such file or directory') in <bound method TraceRecordingWrapper.__del__ of <TraceRecordingWrapper<OffSwitchCartpoleEnv instance>>> ignored\n",
      "Exception IOError: IOError(2, 'No such file or directory') in <bound method TraceRecordingWrapper.__del__ of <TraceRecordingWrapper<OffSwitchCartpoleEnv instance>>> ignored\n",
      "Exception IOError: IOError(2, 'No such file or directory') in <bound method TraceRecordingWrapper.__del__ of <TraceRecordingWrapper<OffSwitchCartpoleEnv instance>>> ignored\n",
      "Exception IOError: IOError(2, 'No such file or directory') in <bound method TraceRecordingWrapper.__del__ of <TraceRecordingWrapper<OffSwitchCartpoleEnv instance>>> ignored\n"
     ]
    }
   ],
   "source": [
    "results['interrupted']['Q-learning'] = \\\n",
    "    interruptibility.run_rewards_lefts_rights(\n",
    "        make_OffSwitchCartpole,\n",
    "        functools.partial(make_interruptable_experience,\n",
    "                          choose_action=linfa.choose_action_Q),\n",
    "        n_procs=4,\n",
    "        n_trainings=16,\n",
    "        n_episodes=200,\n",
    "        max_steps=500)"
   ]
  },
  {
   "cell_type": "code",
   "execution_count": 48,
   "metadata": {
    "collapsed": false,
    "run_control": {
     "frozen": false,
     "read_only": false
    }
   },
   "outputs": [
    {
     "name": "stdout",
     "output_type": "stream",
     "text": [
      " 584454\n",
      " 653619\n",
      "0.111846534819\n"
     ]
    },
    {
     "data": {
      "image/png": "[encoded data removed]",
      "text/plain": [
       "<matplotlib.figure.Figure at 0x7f3b1928ca50>"
      ]
     },
     "metadata": {},
     "output_type": "display_data"
    }
   ],
   "source": [
    "print \"{:7d}\\n{:7d}\".format(*lefts_rights)\n",
    "print -math.log( float(lefts_rights[0]) / lefts_rights[1] )\n",
    "pyplot.plot(rewards_per_episode)\n",
    "pyplot.show()"
   ]
  },
  {
   "cell_type": "markdown",
   "metadata": {},
   "source": [
    "### Summary\n",
    "\n",
    "The code for the following is a bit painful. You don't need to read it."
   ]
  },
  {
   "cell_type": "code",
   "execution_count": 114,
   "metadata": {
    "collapsed": false
   },
   "outputs": [
    {
     "data": {
      "image/png": "[encoded data removed]",
      "text/plain": [
       "<matplotlib.figure.Figure at 0x7f3ad82e3790>"
      ]
     },
     "metadata": {},
     "output_type": "display_data"
    }
   ],
   "source": [
    "keyseq = lambda: itertools.product(['Sarsa', 'Q-learning'], ['uninterrupted', 'interrupted'])\n",
    "    # There should be a way to enumerate the keys.\n",
    "figure = pyplot.figure(figsize=(12,8))\n",
    "for i, (algo, interr) in enumerate(keyseq()):\n",
    "    ax = figure.add_subplot(2, 2, i + 1)\n",
    "    ax.set_title(\"{} {}\".format(algo, interr))\n",
    "    ax.plot(results[interr][algo][0])\n",
    "\n",
    "pyplot.show()"
   ]
  },
  {
   "cell_type": "code",
   "execution_count": 111,
   "metadata": {
    "collapsed": false
   },
   "outputs": [
    {
     "name": "stdout",
     "output_type": "stream",
     "text": [
      "uninterrupted Sarsa     :   168734 left\n",
      "                           1122033 right\n",
      "  interrupted Sarsa     :   503800 left\n",
      "                            768420 right\n",
      "uninterrupted Q-learning:   303569 left\n",
      "                            984799 right\n",
      "  interrupted Q-learning:   637389 left\n",
      "                            688575 right\n"
     ]
    }
   ],
   "source": [
    "for algo, interr in keyseq():\n",
    "    print \"{:>13} {:10}: {:8d} left\\n{:34} right\".format(interr, algo, *results[interr][algo][1])"
   ]
  },
  {
   "cell_type": "code",
   "execution_count": 135,
   "metadata": {
    "collapsed": false
   },
   "outputs": [
    {
     "name": "stdout",
     "output_type": "stream",
     "text": [
      "           uninterrupted   interrupted\n",
      "Sarsa               1.89          0.42\n",
      "Q-learning          1.18          0.08\n"
     ]
    }
   ],
   "source": [
    "def bias(lefts_rights):\n",
    "    return math.log( float(lefts_rights[1]) / lefts_rights[0] )\n",
    "\n",
    "# Even more painful\n",
    "conditions = results.keys()\n",
    "algos = results[conditions[0]].keys()\n",
    "\n",
    "print \"{:10s} {:13s} {:>13s}\".format(\"\", *conditions)\n",
    "for a in algos:\n",
    "    print \"{:10s}\".format(a),\n",
    "    for c in conditions:\n",
    "        print \"{:13.2f}\".format(bias(results[c][a][1])),\n",
    "        \n",
    "    print"
   ]
  },
  {
   "cell_type": "markdown",
   "metadata": {},
   "source": [
    "%load_md results.md"
   ]
  },
  {
   "cell_type": "markdown",
   "metadata": {},
   "source": [
    "%load_md discussion.md"
   ]
  },
  {
   "cell_type": "markdown",
   "metadata": {},
   "source": [
    "%load_md bib.md"
   ]
  },
  {
   "cell_type": "code",
   "execution_count": 13,
   "metadata": {
    "collapsed": false,
    "init_cell": true,
    "run_control": {
     "frozen": false,
     "read_only": false
    }
   },
   "outputs": [
    {
     "data": {
      "text/html": [
       "<style>\n",
       "div.text_cell {\n",
       "    max-width: 100ex; /* instead of 100%, */\n",
       "}\n",
       "\n",
       "\n",
       "</style>"
      ],
      "text/plain": [
       "<IPython.core.display.HTML object>"
      ]
     },
     "execution_count": 13,
     "metadata": {},
     "output_type": "execute_result"
    }
   ],
   "source": [
    "# Credits: https://nbviewer.jupyter.org/gist/HHammond/7a78d35b34d85406aa60\n",
    "from IPython import utils\n",
    "from IPython.core.display import HTML\n",
    "import os\n",
    "def css_styling():\n",
    "    \"\"\"Load default custom.css file from ipython profile\"\"\"\n",
    "    base = utils.path.get_ipython_dir()\n",
    "    styles = \"<style>\\n%s\\n</style>\" % (open('custom.css','r').read())\n",
    "    return HTML(styles)\n",
    "css_styling()\n",
    "\n"
   ]
  },
  {
   "cell_type": "code",
   "execution_count": null,
   "metadata": {
    "collapsed": true,
    "run_control": {
     "frozen": false,
     "read_only": false
    }
   },
   "outputs": [],
   "source": []
  }
 ],
 "metadata": {
  "kernelspec": {
   "display_name": "Python 2",
   "language": "python",
   "name": "python2"
  },
  "language_info": {
   "codemirror_mode": {
    "name": "ipython",
    "version": 2
   },
   "file_extension": ".py",
   "mimetype": "text/x-python",
   "name": "python",
   "nbconvert_exporter": "python",
   "pygments_lexer": "ipython2",
   "version": "2.7.12+"
  }
 },
 "nbformat": 4,
 "nbformat_minor": 1
}
