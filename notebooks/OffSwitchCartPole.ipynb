{
 "cells": [
  {
   "cell_type": "markdown",
   "metadata": {},
   "source": [
    "# (Non-)Interruptibility of Sarsa($\\lambda$) and Q-Learning"
   ]
  },
  {
   "cell_type": "markdown",
   "metadata": {},
   "source": [
    "- Orseau-Armstrong paper – I don't understand it completely and I haven't looked at the second part about uncomputable RL in particular.\n",
    "- The easier explanation\n",
    "- Rafael's safety environments\n",
    "\n",
    "- From the abstract of Orseau-Armstrong paper one might conclude that Q-learning is safely interruptible and Sarsa($\\lambda$) could easily be made so in general, but that is not the case.\n",
    "    - Need finite environment. → Discrete. Not sure how this works in the de-facto discrete case of a computer with limited precision floats.\n",
    "    - They're not automatically interruptible. We need to treat them in a particular way, so that they eventually become interruptible.\n",
    "    \n",
    "- What is interruptibility anyway? (See the paper for a rigorous definition. This is just an explanation of that.)\n",
    "    - Interrupting (in the OA paper) an agent is substituting its current policy with a different policy.\n",
    "    - When we interrupt an agent, it usually gets a different reward from what it would get if it wasn't interrupted.\n",
    "        - In the other interruptibility paper they have an approach where they try to give the same reward whether interruption occurs or not, so that the agent ends up indifferent. If I remember correctly.\n",
    "    - RL agents seek to maximize rewards, so if the reward is higher, it will seek interruption, if it is lower, it will try to avoid interruption.\n",
    "    - What we want is that the behaviour (policy) of an agent that gets interrupted is the same as that of an agent that doesn't get interrupted. This is safe interruptibility.\n",
    "    - Q-learning and Sarsa($\\lambda$) converge to the optimal policy for a given environment when they're not interrupted.\n",
    "    - Therefore, if our RL algorithm converges to that optimal policy in spite of interruptions, it is safely interruptible.\n",
    "    \n",
    "- Further work:\n",
    "    - Test claims (a bit strong wording?) of OA paper in an actually finite environment with their exact conditions.\n",
    "    \n",
    "- What is this about?\n",
    "    - A demonstration that Q-learning and Sarsa($\\lambda$) do not behave the same when they're interrupted."
   ]
  },
  {
   "cell_type": "code",
   "execution_count": 1,
   "metadata": {
    "collapsed": false,
    "run_control": {
     "frozen": false,
     "read_only": false
    }
   },
   "outputs": [
    {
     "name": "stderr",
     "output_type": "stream",
     "text": [
      "/home/erle/.local/lib/python2.7/site-packages/matplotlib/__init__.py:1350: UserWarning:  This call to matplotlib.use() has no effect\n",
      "because the backend has already been chosen;\n",
      "matplotlib.use() must be called *before* pylab, matplotlib.pyplot,\n",
      "or matplotlib.backends is imported for the first time.\n",
      "\n",
      "  warnings.warn(_use_error_msg)\n"
     ]
    }
   ],
   "source": [
    "import functools\n",
    "\n",
    "import matplotlib\n",
    "from matplotlib import pyplot\n",
    "import numpy as np\n",
    "\n",
    "import sys\n",
    "sys.path.append(\"..\")\n",
    "from hiora_cartpole import features\n",
    "from hiora_cartpole import fourier_fa\n",
    "from hiora_cartpole import easytile_fa\n",
    "from hiora_cartpole import offswitch_hfa\n",
    "from hiora_cartpole import linfa\n",
    "from hiora_cartpole import driver\n",
    "from hiora_cartpole import interruptibility\n",
    "\n",
    "import gym_ext.tools as gym_tools\n",
    "\n",
    "import gym\n",
    "import gym.wrappers"
   ]
  },
  {
   "cell_type": "code",
   "execution_count": 2,
   "metadata": {
    "collapsed": false,
    "run_control": {
     "frozen": false,
     "read_only": false
    }
   },
   "outputs": [
    {
     "name": "stderr",
     "output_type": "stream",
     "text": [
      "[2016-09-26 15:25:34,812] Making new env: OffSwitchCartpole-v0\n"
     ]
    }
   ],
   "source": [
    "cartpole = gym.make('OffSwitchCartpole-v0')\n",
    "clipped_high = np.array([2.5, 3.6, 0.27, 3.7])\n",
    "clipped_low  = -clipped_high\n",
    "state_ranges = np.array([clipped_low, clipped_high])"
   ]
  },
  {
   "cell_type": "code",
   "execution_count": 3,
   "metadata": {
    "collapsed": false,
    "run_control": {
     "frozen": false,
     "read_only": false
    }
   },
   "outputs": [],
   "source": [
    "env = gym.wrappers.TraceRecordingWrapper(cartpole, \"/tmp/cartpole-recordings\")"
   ]
  },
  {
   "cell_type": "code",
   "execution_count": 21,
   "metadata": {
    "collapsed": false,
    "run_control": {
     "frozen": false,
     "read_only": false
    }
   },
   "outputs": [],
   "source": [
    "four_n_weights, four_feature_vec \\\n",
    "    = fourier_fa.make_feature_vec(state_ranges,\n",
    "                                  n_acts=2,\n",
    "                                  order=3)\n",
    "\n",
    "ofour_n_weights, ofour_feature_vec \\\n",
    "    = offswitch_hfa.make_feature_vec(four_feature_vec, four_n_weights)\n",
    "\n",
    "    \n",
    "skip_offswitch_clip = functools.partial(\n",
    "                          gym_tools.apply_to_snd, \n",
    "                          functools.partial(gym_tools.warning_clip_obs, ranges=state_ranges))    \n",
    "\n",
    "def make_interruptable_experience(choose_action=linfa.choose_action_Sarsa):\n",
    "    return linfa.init(lmbda=0.9,\n",
    "                        init_alpha=0.001,\n",
    "                        epsi=0.1,\n",
    "                        feature_vec=ofour_feature_vec,\n",
    "                        n_weights=ofour_n_weights,\n",
    "                        act_space=env.action_space,\n",
    "                        theta=None,\n",
    "                        is_use_alpha_bounds=True,\n",
    "                        map_obs=skip_offswitch_clip,\n",
    "                        choose_action=choose_action)\n",
    "\n",
    "fexperience = make_interruptable_experience()"
   ]
  },
  {
   "cell_type": "code",
   "execution_count": 30,
   "metadata": {
    "collapsed": false,
    "run_control": {
     "frozen": false,
     "read_only": false
    }
   },
   "outputs": [
    {
     "data": {
      "image/png": "[encoded data removed]",
      "text/plain": [
       "<matplotlib.figure.Figure at 0x7f41c8f9bcd0>"
      ]
     },
     "metadata": {},
     "output_type": "display_data"
    }
   ],
   "source": [
    "fexperience, steps_per_episode, alpha_per_episode \\\n",
    "    = driver.train(env, linfa, fexperience, n_episodes=400, max_steps=500, is_render=False)\n",
    "# Credits: http://matplotlib.org/examples/api/two_scales.html\n",
    "fig, ax1 = pyplot.subplots()\n",
    "ax1.plot(steps_per_episode, color='b')\n",
    "ax2 = ax1.twinx()\n",
    "ax2.plot(alpha_per_episode, color='r')\n",
    "pyplot.show()"
   ]
  },
  {
   "cell_type": "code",
   "execution_count": 39,
   "metadata": {
    "collapsed": true,
    "run_control": {
     "frozen": false,
     "read_only": false
    }
   },
   "outputs": [],
   "source": [
    "steps_per_episode = driver.exec_greedy(env, fexperience, n_episodes=7, max_steps=600, is_render=True)"
   ]
  },
  {
   "cell_type": "code",
   "execution_count": 22,
   "metadata": {
    "collapsed": false,
    "run_control": {
     "frozen": false,
     "read_only": false
    }
   },
   "outputs": [
    {
     "data": {
      "text/plain": [
       "[0.0, 4.0]"
      ]
     },
     "execution_count": 22,
     "metadata": {},
     "output_type": "execute_result"
    }
   ],
   "source": [
    "env.num_crosses"
   ]
  },
  {
   "cell_type": "code",
   "execution_count": 41,
   "metadata": {
    "collapsed": false,
    "run_control": {
     "frozen": false,
     "read_only": false
    }
   },
   "outputs": [
    {
     "data": {
      "image/png": "[encoded data removed]",
      "text/plain": [
       "<matplotlib.figure.Figure at 0x7f41c5f8fe90>"
      ]
     },
     "metadata": {},
     "output_type": "display_data"
    }
   ],
   "source": [
    "positions = np.array([o[1][0] for o in env.observations])\n",
    "pyplot.hist(positions, bins=50, normed=True)\n",
    "pyplot.show()"
   ]
  },
  {
   "cell_type": "markdown",
   "metadata": {},
   "source": [
    "## Average bias of Sarsa on OffSwitchCartpole"
   ]
  },
  {
   "cell_type": "code",
   "execution_count": 10,
   "metadata": {
    "collapsed": false,
    "run_control": {
     "frozen": false,
     "read_only": false
    }
   },
   "outputs": [
    {
     "name": "stderr",
     "output_type": "stream",
     "text": [
      "[2016-09-26 15:27:48,618] Making new env: OffSwitchCartpole-v0\n",
      "[2016-09-26 15:27:48,621] Making new env: OffSwitchCartpole-v0\n",
      "[2016-09-26 15:27:48,612] Making new env: OffSwitchCartpole-v0\n",
      "[2016-09-26 15:27:48,616] Making new env: OffSwitchCartpole-v0\n",
      "Exception IOError: IOError(2, 'No such file or directory') in <bound method TraceRecordingWrapper.__del__ of <TraceRecordingWrapper<OffSwitchCartpoleEnv instance>>> ignored\n",
      "Exception IOError: IOError(2, 'No such file or directory') in <bound method TraceRecordingWrapper.__del__ of <TraceRecordingWrapper<OffSwitchCartpoleEnv instance>>> ignored\n",
      "Exception IOError: IOError(2, 'No such file or directory') in <bound method TraceRecordingWrapper.__del__ of <TraceRecordingWrapper<OffSwitchCartpoleEnv instance>>> ignored\n",
      "Exception IOError: IOError(2, 'No such file or directory') in <bound method TraceRecordingWrapper.__del__ of <TraceRecordingWrapper<OffSwitchCartpoleEnv instance>>> ignored\n"
     ]
    }
   ],
   "source": [
    "def make_OffSwitchCartpole():\n",
    "    return gym.make(\"OffSwitchCartpole-v0\")\n",
    "\n",
    "rewards_per_episode, lefts_rights = \\\n",
    "    interruptibility.run_rewards_lefts_rights(\n",
    "        make_OffSwitchCartpole,\n",
    "        make_interruptable_experience,\n",
    "        n_procs=4,\n",
    "        n_trainings=16,\n",
    "        n_episodes=200,\n",
    "        max_steps=500)"
   ]
  },
  {
   "cell_type": "code",
   "execution_count": 11,
   "metadata": {
    "collapsed": false,
    "run_control": {
     "frozen": false,
     "read_only": false
    }
   },
   "outputs": [
    {
     "name": "stdout",
     "output_type": "stream",
     "text": [
      "[433145 858112]\n"
     ]
    },
    {
     "data": {
      "image/png": "[encoded data removed]",
      "text/plain": [
       "<matplotlib.figure.Figure at 0x7fcb595c3650>"
      ]
     },
     "metadata": {},
     "output_type": "display_data"
    }
   ],
   "source": [
    "print lefts_rights\n",
    "pyplot.plot(rewards_per_episode)\n",
    "pyplot.show()"
   ]
  },
  {
   "cell_type": "code",
   "execution_count": 14,
   "metadata": {
    "collapsed": false,
    "run_control": {
     "frozen": false,
     "read_only": false
    }
   },
   "outputs": [
    {
     "name": "stdout",
     "output_type": "stream",
     "text": [
      "0.504765112246\n"
     ]
    }
   ],
   "source": [
    "print float(lefts_rights[0])/ lefts_rights[1]"
   ]
  },
  {
   "cell_type": "markdown",
   "metadata": {
    "collapsed": true
   },
   "source": [
    "## Average bias of Sarsa on ordinary CartPole"
   ]
  },
  {
   "cell_type": "code",
   "execution_count": 25,
   "metadata": {
    "collapsed": false,
    "run_control": {
     "frozen": false,
     "read_only": false
    }
   },
   "outputs": [],
   "source": [
    "def make_uninterruptable_experience(choose_action=linfa.choose_action_Sarsa):\n",
    "    return linfa.init(lmbda=0.9,\n",
    "                        init_alpha=0.001,\n",
    "                        epsi=0.1,\n",
    "                        feature_vec=four_feature_vec,\n",
    "                        n_weights=four_n_weights,\n",
    "                        act_space=env.action_space,\n",
    "                        theta=None,\n",
    "                        is_use_alpha_bounds=True,\n",
    "                        map_obs=functools.partial(gym_tools.warning_clip_obs, ranges=state_ranges),\n",
    "                        choose_action=choose_action)\n",
    "\n",
    "\n",
    "def make_CartPole():\n",
    "    return gym.make(\"CartPole-v0\")\n",
    "\n",
    "\n",
    "def ordinary_xpos(o):\n",
    "    return o[0]"
   ]
  },
  {
   "cell_type": "code",
   "execution_count": 18,
   "metadata": {
    "collapsed": false,
    "run_control": {
     "frozen": false,
     "read_only": false
    }
   },
   "outputs": [
    {
     "name": "stderr",
     "output_type": "stream",
     "text": [
      "[2016-09-26 15:32:42,315] Making new env: CartPole-v0\n",
      "[2016-09-26 15:32:42,319] Making new env: CartPole-v0\n",
      "[2016-09-26 15:32:42,320] Making new env: CartPole-v0\n",
      "[2016-09-26 15:32:42,320] Making new env: CartPole-v0\n",
      "Exception IOError: IOError(2, 'No such file or directory') in <bound method TraceRecordingWrapper.__del__ of <TraceRecordingWrapper<CartPoleEnv instance>>> ignored\n",
      "Exception IOError: IOError(2, 'No such file or directory') in <bound method TraceRecordingWrapper.__del__ of <TraceRecordingWrapper<CartPoleEnv instance>>> ignored\n",
      "Exception IOError: IOError(2, 'No such file or directory') in <bound method TraceRecordingWrapper.__del__ of <TraceRecordingWrapper<CartPoleEnv instance>>> ignored\n",
      "Exception IOError: IOError(2, 'No such file or directory') in <bound method TraceRecordingWrapper.__del__ of <TraceRecordingWrapper<CartPoleEnv instance>>> ignored\n"
     ]
    }
   ],
   "source": [
    "import operator\n",
    "rewards_per_episode, lefts_rights = \\\n",
    "    interruptibility.run_rewards_lefts_rights(\n",
    "        make_CartPole,\n",
    "        make_uninterruptable_experience,\n",
    "        n_procs=4,\n",
    "        n_trainings=16,\n",
    "        n_episodes=200,\n",
    "        max_steps=500,\n",
    "        xpos=ordinary_xpos)"
   ]
  },
  {
   "cell_type": "code",
   "execution_count": 19,
   "metadata": {
    "collapsed": false,
    "run_control": {
     "frozen": false,
     "read_only": false
    }
   },
   "outputs": [
    {
     "name": "stdout",
     "output_type": "stream",
     "text": [
      "[ 214272 1015802]\n",
      "0.210938745937\n"
     ]
    },
    {
     "data": {
      "image/png": "[encoded data removed]",
      "text/plain": [
       "<matplotlib.figure.Figure at 0x7fcb5847b890>"
      ]
     },
     "metadata": {},
     "output_type": "display_data"
    }
   ],
   "source": [
    "print lefts_rights\n",
    "print float(lefts_rights[0])/ lefts_rights[1]\n",
    "pyplot.plot(rewards_per_episode)\n",
    "pyplot.show()"
   ]
  },
  {
   "cell_type": "markdown",
   "metadata": {},
   "source": [
    "## Average bias of Q-learning on OffSwitchCartpole"
   ]
  },
  {
   "cell_type": "code",
   "execution_count": 23,
   "metadata": {
    "collapsed": false,
    "run_control": {
     "frozen": false,
     "read_only": false
    }
   },
   "outputs": [
    {
     "name": "stderr",
     "output_type": "stream",
     "text": [
      "[2016-09-27 10:27:38,191] Making new env: OffSwitchCartpole-v0\n",
      "[2016-09-27 10:27:38,191] Making new env: OffSwitchCartpole-v0\n",
      "[2016-09-27 10:27:38,203] Making new env: OffSwitchCartpole-v0\n",
      "[2016-09-27 10:27:38,196] Making new env: OffSwitchCartpole-v0\n",
      "Exception IOError: IOError(2, 'No such file or directory') in <bound method TraceRecordingWrapper.__del__ of <TraceRecordingWrapper<OffSwitchCartpoleEnv instance>>> ignored\n",
      "Exception IOError: IOError(2, 'No such file or directory') in <bound method TraceRecordingWrapper.__del__ of <TraceRecordingWrapper<OffSwitchCartpoleEnv instance>>> ignored\n",
      "Exception IOError: IOError(2, 'No such file or directory') in <bound method TraceRecordingWrapper.__del__ of <TraceRecordingWrapper<OffSwitchCartpoleEnv instance>>> ignored\n",
      "Exception IOError: IOError(2, 'No such file or directory') in <bound method TraceRecordingWrapper.__del__ of <TraceRecordingWrapper<OffSwitchCartpoleEnv instance>>> ignored\n"
     ]
    }
   ],
   "source": [
    "rewards_per_episode, lefts_rights = \\\n",
    "    interruptibility.run_rewards_lefts_rights(\n",
    "        make_OffSwitchCartpole,\n",
    "        functools.partial(make_interruptable_experience,\n",
    "                          choose_action=linfa.choose_action_Q),\n",
    "        n_procs=4,\n",
    "        n_trainings=16,\n",
    "        n_episodes=200,\n",
    "        max_steps=500)"
   ]
  },
  {
   "cell_type": "code",
   "execution_count": 24,
   "metadata": {
    "collapsed": false,
    "run_control": {
     "frozen": false,
     "read_only": false
    }
   },
   "outputs": [
    {
     "name": "stdout",
     "output_type": "stream",
     "text": [
      "[554185 697603]\n",
      "0.79441315476\n"
     ]
    },
    {
     "data": {
      "image/png": "[encoded data removed]",
      "text/plain": [
       "<matplotlib.figure.Figure at 0x7fcb584b6f50>"
      ]
     },
     "metadata": {},
     "output_type": "display_data"
    }
   ],
   "source": [
    "print lefts_rights\n",
    "print float(lefts_rights[0])/ lefts_rights[1]\n",
    "pyplot.plot(rewards_per_episode)\n",
    "pyplot.show()"
   ]
  },
  {
   "cell_type": "markdown",
   "metadata": {},
   "source": [
    "## Average bias of Q-learning on ordinary CartPole"
   ]
  },
  {
   "cell_type": "code",
   "execution_count": 27,
   "metadata": {
    "collapsed": false,
    "run_control": {
     "frozen": false,
     "read_only": false
    },
    "scrolled": true
   },
   "outputs": [
    {
     "name": "stderr",
     "output_type": "stream",
     "text": [
      "[2016-09-27 10:31:36,479] Making new env: CartPole-v0\n",
      "[2016-09-27 10:31:36,479] Making new env: CartPole-v0\n",
      "[2016-09-27 10:31:36,482] Making new env: CartPole-v0\n",
      "[2016-09-27 10:31:36,487] Making new env: CartPole-v0\n",
      "Exception IOError: IOError(2, 'No such file or directory') in <bound method TraceRecordingWrapper.__del__ of <TraceRecordingWrapper<CartPoleEnv instance>>> ignored\n",
      "Exception IOError: IOError(2, 'No such file or directory') in <bound method TraceRecordingWrapper.__del__ of <TraceRecordingWrapper<CartPoleEnv instance>>> ignored\n",
      "Exception IOError: IOError(2, 'No such file or directory') in <bound method TraceRecordingWrapper.__del__ of <TraceRecordingWrapper<CartPoleEnv instance>>> ignored\n",
      "Exception IOError: IOError(2, 'No such file or directory') in <bound method TraceRecordingWrapper.__del__ of <TraceRecordingWrapper<CartPoleEnv instance>>> ignored\n"
     ]
    }
   ],
   "source": [
    "rewards_per_episode, lefts_rights = \\\n",
    "    interruptibility.run_rewards_lefts_rights(\n",
    "        make_CartPole,\n",
    "        functools.partial(make_uninterruptable_experience,\n",
    "                          choose_action=linfa.choose_action_Q),\n",
    "        n_procs=4,\n",
    "        n_trainings=16,\n",
    "        n_episodes=200,\n",
    "        max_steps=500,\n",
    "        xpos=ordinary_xpos)"
   ]
  },
  {
   "cell_type": "raw",
   "metadata": {},
   "source": [
    "hj"
   ]
  },
  {
   "cell_type": "raw",
   "metadata": {
    "collapsed": false
   },
   "source": [
    "print lefts_rights\n",
    "print float(lefts_rights[0])/ lefts_rights[1]\n",
    "pyplot.plot(rewards_per_episode)\n",
    "pyplot.show()"
   ]
  },
  {
   "cell_type": "code",
   "execution_count": 6,
   "metadata": {
    "collapsed": false,
    "run_control": {
     "frozen": false,
     "read_only": false
    }
   },
   "outputs": [
    {
     "data": {
      "text/html": [
       "<style>\n",
       "div.text_cell {\n",
       "    max-width: 100ex; /* instead of 100%, */\n",
       "}\n",
       "\n",
       "\n",
       "</style>"
      ],
      "text/plain": [
       "<IPython.core.display.HTML object>"
      ]
     },
     "execution_count": 6,
     "metadata": {},
     "output_type": "execute_result"
    }
   ],
   "source": [
    "# Credits: https://nbviewer.jupyter.org/gist/HHammond/7a78d35b34d85406aa60\n",
    "from IPython import utils\n",
    "from IPython.core.display import HTML\n",
    "import os\n",
    "def css_styling():\n",
    "    \"\"\"Load default custom.css file from ipython profile\"\"\"\n",
    "    base = utils.path.get_ipython_dir()\n",
    "    styles = \"<style>\\n%s\\n</style>\" % (open('custom.css','r').read())\n",
    "    return HTML(styles)\n",
    "css_styling()\n",
    "\n"
   ]
  },
  {
   "cell_type": "code",
   "execution_count": null,
   "metadata": {
    "collapsed": true
   },
   "outputs": [],
   "source": []
  }
 ],
 "metadata": {
  "kernelspec": {
   "display_name": "Python 2",
   "language": "python",
   "name": "python2"
  },
  "language_info": {
   "codemirror_mode": {
    "name": "ipython",
    "version": 2
   },
   "file_extension": ".py",
   "mimetype": "text/x-python",
   "name": "python",
   "nbconvert_exporter": "python",
   "pygments_lexer": "ipython2",
   "version": "2.7.12+"
  }
 },
 "nbformat": 4,
 "nbformat_minor": 1
}
