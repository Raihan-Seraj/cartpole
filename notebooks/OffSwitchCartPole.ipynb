{
 "cells": [
  {
   "cell_type": "code",
   "execution_count": 4,
   "metadata": {
    "collapsed": false
   },
   "outputs": [
    {
     "name": "stderr",
     "output_type": "stream",
     "text": [
      "/home/erle/.local/lib/python2.7/site-packages/matplotlib/__init__.py:1350: UserWarning:  This call to matplotlib.use() has no effect\n",
      "because the backend has already been chosen;\n",
      "matplotlib.use() must be called *before* pylab, matplotlib.pyplot,\n",
      "or matplotlib.backends is imported for the first time.\n",
      "\n",
      "  warnings.warn(_use_error_msg)\n"
     ]
    }
   ],
   "source": [
    "import functools\n",
    "\n",
    "import matplotlib\n",
    "from matplotlib import pyplot\n",
    "import numpy as np\n",
    "\n",
    "import sys\n",
    "sys.path.append(\"..\")\n",
    "from hiora_cartpole import features\n",
    "from hiora_cartpole import fourier_fa\n",
    "from hiora_cartpole import easytile_fa\n",
    "from hiora_cartpole import offswitch_hfa\n",
    "from hiora_cartpole import linfa\n",
    "from hiora_cartpole import driver\n",
    "\n",
    "import gym_ext.tools as gym_tools\n",
    "\n",
    "import gym\n",
    "import gym.wrappers"
   ]
  },
  {
   "cell_type": "code",
   "execution_count": 5,
   "metadata": {
    "collapsed": false
   },
   "outputs": [
    {
     "name": "stderr",
     "output_type": "stream",
     "text": [
      "[2016-09-26 11:16:04,154] Making new env: OffSwitchCartpole-v0\n"
     ]
    }
   ],
   "source": [
    "cartpole = gym.make('OffSwitchCartpole-v0')\n",
    "clipped_high = np.array([2.5, 3.6, 0.27, 3.7])\n",
    "clipped_low  = -clipped_high\n",
    "state_ranges = np.array([clipped_low, clipped_high])"
   ]
  },
  {
   "cell_type": "code",
   "execution_count": 6,
   "metadata": {
    "collapsed": false
   },
   "outputs": [],
   "source": [
    "env = gym.wrappers.TraceRecordingWrapper(cartpole, \"/tmp/cartpole-recordings\")"
   ]
  },
  {
   "cell_type": "code",
   "execution_count": 7,
   "metadata": {
    "collapsed": false
   },
   "outputs": [],
   "source": [
    "four_n_weights, four_feature_vec \\\n",
    "    = fourier_fa.make_feature_vec(state_ranges,\n",
    "                                  n_acts=2,\n",
    "                                  order=3)\n",
    "\n",
    "ofour_n_weights, ofour_feature_vec \\\n",
    "    = offswitch_hfa.make_feature_vec(four_feature_vec, four_n_weights)\n",
    "\n",
    "    \n",
    "skip_offswitch_clip = functools.partial(\n",
    "                          gym_tools.apply_to_snd, \n",
    "                          functools.partial(gym_tools.warning_clip_obs, ranges=state_ranges))    \n",
    "\n",
    "def init_experience():\n",
    "    return linfa.init(lmbda=0.9,\n",
    "                        init_alpha=0.001,\n",
    "                        epsi=0.1,\n",
    "                        feature_vec=ofour_feature_vec,\n",
    "                        n_weights=ofour_n_weights,\n",
    "                        act_space=env.action_space,\n",
    "                        theta=None,\n",
    "                        is_use_alpha_bounds=True,\n",
    "                        map_obs=skip_offswitch_clip)\n",
    "\n",
    "fexperience = init_experience()"
   ]
  },
  {
   "cell_type": "code",
   "execution_count": 30,
   "metadata": {
    "collapsed": false
   },
   "outputs": [
    {
     "data": {
      "image/png": "[encoded data removed]",
      "text/plain": [
       "<matplotlib.figure.Figure at 0x7f41c8f9bcd0>"
      ]
     },
     "metadata": {},
     "output_type": "display_data"
    }
   ],
   "source": [
    "fexperience, steps_per_episode, alpha_per_episode \\\n",
    "    = driver.train(env, linfa, fexperience, n_episodes=400, max_steps=500, is_render=False)\n",
    "# Credits: http://matplotlib.org/examples/api/two_scales.html\n",
    "fig, ax1 = pyplot.subplots()\n",
    "ax1.plot(steps_per_episode, color='b')\n",
    "ax2 = ax1.twinx()\n",
    "ax2.plot(alpha_per_episode, color='r')\n",
    "pyplot.show()"
   ]
  },
  {
   "cell_type": "code",
   "execution_count": 39,
   "metadata": {
    "collapsed": true
   },
   "outputs": [],
   "source": [
    "steps_per_episode = driver.exec_greedy(env, fexperience, n_episodes=7, max_steps=600, is_render=True)"
   ]
  },
  {
   "cell_type": "code",
   "execution_count": 22,
   "metadata": {
    "collapsed": false
   },
   "outputs": [
    {
     "data": {
      "text/plain": [
       "[0.0, 4.0]"
      ]
     },
     "execution_count": 22,
     "metadata": {},
     "output_type": "execute_result"
    }
   ],
   "source": [
    "env.num_crosses"
   ]
  },
  {
   "cell_type": "code",
   "execution_count": 41,
   "metadata": {
    "collapsed": false
   },
   "outputs": [
    {
     "data": {
      "image/png": "[encoded data removed]",
      "text/plain": [
       "<matplotlib.figure.Figure at 0x7f41c5f8fe90>"
      ]
     },
     "metadata": {},
     "output_type": "display_data"
    }
   ],
   "source": [
    "positions = np.array([o[1][0] for o in env.observations])\n",
    "pyplot.hist(positions, bins=50, normed=True)\n",
    "pyplot.show()"
   ]
  },
  {
   "cell_type": "code",
   "execution_count": 35,
   "metadata": {
    "collapsed": false
   },
   "outputs": [
    {
     "ename": "SyntaxError",
     "evalue": "invalid syntax (<ipython-input-35-c34e8a26732a>, line 1)",
     "output_type": "error",
     "traceback": [
      "\u001b[0;36m  File \u001b[0;32m\"<ipython-input-35-c34e8a26732a>\"\u001b[0;36m, line \u001b[0;32m1\u001b[0m\n\u001b[0;31m    left_poss = positions[np.and(-1.0 <= positions, positions < 0)]\u001b[0m\n\u001b[0m                               ^\u001b[0m\n\u001b[0;31mSyntaxError\u001b[0m\u001b[0;31m:\u001b[0m invalid syntax\n"
     ]
    }
   ],
   "source": [
    "left_poss = positions[np.and(-1.0 <= positions, positions < 0)]"
   ]
  },
  {
   "cell_type": "code",
   "execution_count": 42,
   "metadata": {
    "collapsed": false
   },
   "outputs": [
    {
     "data": {
      "text/plain": [
       "(array([428, 173]), array([-1.,  0.,  1.]))"
      ]
     },
     "execution_count": 42,
     "metadata": {},
     "output_type": "execute_result"
    }
   ],
   "source": [
    "np.histogram(positions, [-1.0, 0.0, 1.0])"
   ]
  },
  {
   "cell_type": "code",
   "execution_count": 24,
   "metadata": {
    "collapsed": false
   },
   "outputs": [],
   "source": [
    "import shutil\n",
    "import tempfile\n",
    "\n",
    "def rewards_lefts_rights(n_trainings, n_episodes, max_steps):\n",
    "    tmpdir = tempfile.mkdtemp(prefix=\"cartpole-\", dir=\"/tmp\")\n",
    "    print tmpdir\n",
    "    record_env = gym.wrappers.TraceRecordingWrapper(\n",
    "                     gym.make(\"OffSwitchCartpole-v0\"), tmpdir)\n",
    "    record_env.buffer_batch_size = max_steps * n_episodes\n",
    "    \n",
    "    rewards_per_episode = []\n",
    "    lefts_rights = np.zeros((2,), dtype=np.int)\n",
    "\n",
    "    for i_training in xrange(n_trainings):\n",
    "        driver.train(record_env, linfa, init_experience(),\n",
    "                     n_episodes=n_episodes, max_steps=max_steps)\n",
    "        rewards_per_episode += [np.sum(e['rewards']) for e in record_env.episodes]\n",
    "        poss = np.array([o[1][0] for e in record_env.episodes\n",
    "                                 for o in e['observations']])\n",
    "        lefts_rights += np.histogram(poss, [-1.0, 0.0, 1.0])[0]\n",
    "\n",
    "        record_env.episodes            = []\n",
    "        record_env.episodes_first      = None\n",
    "        record_env.buffered_step_count = 0\n",
    "        \n",
    "    shutil.rmtree(tmpdir)\n",
    "        \n",
    "    return rewards_per_episode, lefts_rights    "
   ]
  },
  {
   "cell_type": "code",
   "execution_count": 21,
   "metadata": {
    "collapsed": false
   },
   "outputs": [
    {
     "data": {
      "text/plain": [
       "'/tmp/cartpole-3AT3Cf'"
      ]
     },
     "execution_count": 21,
     "metadata": {},
     "output_type": "execute_result"
    }
   ],
   "source": [
    "tempfile.mkdtemp(prefix=\"cartpole-\", dir=\"/tmp\")"
   ]
  },
  {
   "cell_type": "code",
   "execution_count": 38,
   "metadata": {
    "collapsed": false
   },
   "outputs": [
    {
     "name": "stdout",
     "output_type": "stream",
     "text": [
      "/tmp/cartpole-yrr_2A\n",
      "/tmp/cartpole-Nd8nif\n",
      "/tmp/cartpole-VQEfK7\n",
      "/tmp/cartpole-dLecuD\n"
     ]
    },
    {
     "name": "stderr",
     "output_type": "stream",
     "text": [
      "[2016-09-26 12:21:58,455] Making new env: OffSwitchCartpole-v0\n",
      "[2016-09-26 12:21:58,458] Making new env: OffSwitchCartpole-v0\n",
      "[2016-09-26 12:21:58,457] Making new env: OffSwitchCartpole-v0\n",
      "[2016-09-26 12:21:58,461] Making new env: OffSwitchCartpole-v0\n",
      "Exception IOError: IOError(2, 'No such file or directory') in <bound method TraceRecordingWrapper.__del__ of <TraceRecordingWrapper<OffSwitchCartpoleEnv instance>>> ignored\n",
      "Exception IOError: IOError(2, 'No such file or directory') in <bound method TraceRecordingWrapper.__del__ of <TraceRecordingWrapper<OffSwitchCartpoleEnv instance>>> ignored\n",
      "Exception IOError: IOError(2, 'No such file or directory') in <bound method TraceRecordingWrapper.__del__ of <TraceRecordingWrapper<OffSwitchCartpoleEnv instance>>> ignored\n",
      "Exception IOError: IOError(2, 'No such file or directory') in <bound method TraceRecordingWrapper.__del__ of <TraceRecordingWrapper<OffSwitchCartpoleEnv instance>>> ignored\n"
     ]
    }
   ],
   "source": [
    "import multiprocessing\n",
    "n_procs     = 4\n",
    "pool = multiprocessing.Pool(n_procs)\n",
    "n_trainings = 16\n",
    "n_episodes  = 200\n",
    "max_steps   = 500\n",
    "args = [n_trainings // n_procs, n_episodes, max_steps]\n",
    "\n",
    "results = [pool.apply_async(rewards_lefts_rights, args)\n",
    "               for _ in xrange(n_procs)]\n",
    "answers = [r.get() for r in results]\n",
    "rewards_per_episode = [r for a in answers for r in a[0]]\n",
    "lefts_rights = np.sum(np.array([a[1] for a in answers]), axis=0)"
   ]
  },
  {
   "cell_type": "code",
   "execution_count": 39,
   "metadata": {
    "collapsed": false
   },
   "outputs": [
    {
     "name": "stdout",
     "output_type": "stream",
     "text": [
      "[568730 763095]\n"
     ]
    },
    {
     "data": {
      "image/png": "[encoded data removed]",
      "text/plain": [
       "<matplotlib.figure.Figure at 0x7f040c1ca950>"
      ]
     },
     "metadata": {},
     "output_type": "display_data"
    }
   ],
   "source": [
    "print lefts_rights\n",
    "pyplot.plot(rewards_per_episode)\n",
    "pyplot.show()"
   ]
  },
  {
   "cell_type": "code",
   "execution_count": 51,
   "metadata": {
    "collapsed": false
   },
   "outputs": [
    {
     "data": {
      "text/plain": [
       "(array([ 5100, 15942]), array([-1.,  0.,  1.]))"
      ]
     },
     "execution_count": 51,
     "metadata": {},
     "output_type": "execute_result"
    }
   ],
   "source": [
    "\n",
    "np.histogram(positions, [-1.0, 0.0, 1.0])"
   ]
  },
  {
   "cell_type": "code",
   "execution_count": null,
   "metadata": {
    "collapsed": true
   },
   "outputs": [],
   "source": []
  }
 ],
 "metadata": {
  "kernelspec": {
   "display_name": "Python 2",
   "language": "python",
   "name": "python2"
  }
 },
 "nbformat": 4,
 "nbformat_minor": 1
}
