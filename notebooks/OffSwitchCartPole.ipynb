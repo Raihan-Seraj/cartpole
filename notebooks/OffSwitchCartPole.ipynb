{
 "cells": [
  {
   "cell_type": "markdown",
   "metadata": {},
   "source": [
    "# (Non-)Interruptibility of Sarsa(λ) and Q-Learning"
   ]
  },
  {
   "cell_type": "markdown",
   "metadata": {},
   "source": [
    "Author: Richard Möhn, &lt;my first name&gt;.moehn@posteo.de\n",
    "\n",
    "[⭧repo](https://github.com/rmoehn/cartpole)"
   ]
  },
  {
   "cell_type": "markdown",
   "metadata": {},
   "source": [
    "## Abstract"
   ]
  },
  {
   "cell_type": "markdown",
   "metadata": {},
   "source": [
    "%load_md abstract.md"
   ]
  },
  {
   "cell_type": "markdown",
   "metadata": {},
   "source": [
    "## Introduction"
   ]
  },
  {
   "cell_type": "markdown",
   "metadata": {},
   "source": [
    "%load_md intro2.md"
   ]
  },
  {
   "cell_type": "markdown",
   "metadata": {},
   "source": [
    "## Related Work"
   ]
  },
  {
   "cell_type": "markdown",
   "metadata": {},
   "source": [
    "%load_md related.md"
   ]
  },
  {
   "cell_type": "markdown",
   "metadata": {},
   "source": [
    "## Method"
   ]
  },
  {
   "cell_type": "markdown",
   "metadata": {},
   "source": [
    "I will describe the environments and learners as I set them up. The code, both in the notebook and the supporting modules, is a bit strange and rather untidy. I didn't prepare it for human consumption, so if you want to understand details, ask me and I'll tidy up or explain.\n",
    "\n",
    "First some initialization."
   ]
  },
  {
   "cell_type": "code",
   "execution_count": 1,
   "metadata": {
    "collapsed": false,
    "init_cell": true,
    "run_control": {
     "frozen": false,
     "read_only": false
    }
   },
   "outputs": [
    {
     "name": "stderr",
     "output_type": "stream",
     "text": [
      "/home/erle/.local/lib/python2.7/site-packages/matplotlib/__init__.py:1350: UserWarning:  This call to matplotlib.use() has no effect\n",
      "because the backend has already been chosen;\n",
      "matplotlib.use() must be called *before* pylab, matplotlib.pyplot,\n",
      "or matplotlib.backends is imported for the first time.\n",
      "\n",
      "  warnings.warn(_use_error_msg)\n"
     ]
    }
   ],
   "source": [
    "import functools\n",
    "import itertools\n",
    "import math\n",
    "\n",
    "import ipyparallel\n",
    "import matplotlib\n",
    "from matplotlib import pyplot\n",
    "import numpy as np\n",
    "import scipy.integrate\n",
    "\n",
    "import sys\n",
    "sys.path.append(\"..\")\n",
    "from hiora_cartpole import fourier_fa\n",
    "from hiora_cartpole import fourier_fa_int\n",
    "from hiora_cartpole import offswitch_hfa\n",
    "from hiora_cartpole import linfa\n",
    "from hiora_cartpole import driver\n",
    "\n",
    "import gym_ext.tools as gym_tools\n",
    "\n",
    "import gym\n",
    "\n",
    "from hiora_cartpole import interruptibility"
   ]
  },
  {
   "cell_type": "markdown",
   "metadata": {},
   "source": [
    "I compare the behaviour of reinforcement learners in the uninterrupted [`CartPole-v1`](https://gym.openai.com/envs/CartPole-v1) environment with that in the interrupted [`OffSwitchCartpole-v0`](https://gym.openai.com/envs/OffSwitchCartpole-v0) environment. The `OffSwitchCartpole-v0` is one of several environments made for assessing safety properties of reinforcement learners. \n",
    "\n",
    "`OffSwitchCartpole-v0` has the same physics as `CartPole-v1`. The only difference is that it interrupts the learner when the cart's $x$-coordinate becomes greater than $1.0$. It signals the interruption to the learner as part of the observation it returns."
   ]
  },
  {
   "cell_type": "code",
   "execution_count": 2,
   "metadata": {
    "code_folding": [],
    "collapsed": true,
    "init_cell": true,
    "run_control": {
     "frozen": false,
     "read_only": false
    }
   },
   "outputs": [],
   "source": [
    "def make_CartPole():\n",
    "    return gym.make(\"CartPole-v0\")\n",
    "\n",
    "def make_OffSwitchCartpole():\n",
    "    return gym.make(\"OffSwitchCartpole-v0\")"
   ]
  },
  {
   "cell_type": "markdown",
   "metadata": {},
   "source": [
    "The learners use linear function approximation with the Fourier basis [4] for mapping observations to features. Although the following code looks like it, the observations are not really clipped. I just make sure that the program tells me when they fall outside the expected range. (See [here](https://gitter.im/openai/gym?at=57e23d12aabc89857fbd7c9c) for why I can't use the observation space as provided by the environment.)"
   ]
  },
  {
   "cell_type": "code",
   "execution_count": 54,
   "metadata": {
    "code_folding": [],
    "collapsed": false,
    "init_cell": true,
    "run_control": {
     "frozen": false,
     "read_only": false
    }
   },
   "outputs": [],
   "source": [
    "clipped_high = np.array([2.5, 3.6, 0.28, 3.7])\n",
    "clipped_low  = -clipped_high\n",
    "state_ranges = np.array([clipped_low, clipped_high])\n",
    "\n",
    "order = 3\n",
    "four_n_weights, four_feature_vec \\\n",
    "    = fourier_fa.make_feature_vec(state_ranges,\n",
    "                                  n_acts=2,\n",
    "                                  order=order)\n",
    "\n",
    "ofour_n_weights, ofour_feature_vec \\\n",
    "    = offswitch_hfa.make_feature_vec(four_feature_vec, four_n_weights)\n",
    "    \n",
    "skip_offswitch_clip = functools.partial(\n",
    "                          gym_tools.apply_to_snd, \n",
    "                          functools.partial(gym_tools.warning_clip_obs, ranges=state_ranges))\n",
    "  \n",
    "def ordinary_xpos(o):\n",
    "    return o[0] # Don't remember why I didn't use operator.itemgetter."
   ]
  },
  {
   "cell_type": "markdown",
   "metadata": {},
   "source": [
    "The learners I assess are my own implementations of Sarsa(λ) and Q-learning. They use an AlphaBounds schedule [5] for the learning rate. The learners returned by the following functions are essentially the same. Only the stuff that has to do with mapping observations to features is slightly different, because the OffSwitchCartpole returns extra information, as I wrote above."
   ]
  },
  {
   "cell_type": "code",
   "execution_count": 55,
   "metadata": {
    "collapsed": true,
    "init_cell": true,
    "run_control": {
     "frozen": false,
     "read_only": false
    }
   },
   "outputs": [],
   "source": [
    "def make_uninterruptable_experience(env, choose_action=linfa.choose_action_Sarsa):\n",
    "    return linfa.init(lmbda=0.9,\n",
    "                        init_alpha=0.001,\n",
    "                        epsi=0.1,\n",
    "                        feature_vec=four_feature_vec,\n",
    "                        n_weights=four_n_weights,\n",
    "                        act_space=env.action_space,\n",
    "                        theta=None,\n",
    "                        is_use_alpha_bounds=True,\n",
    "                        map_obs=functools.partial(gym_tools.warning_clip_obs, ranges=state_ranges),\n",
    "                        choose_action=choose_action)\n",
    "\n",
    "def make_interruptable_experience(env, choose_action=linfa.choose_action_Sarsa):\n",
    "    return linfa.init(lmbda=0.9,\n",
    "                        init_alpha=0.001,\n",
    "                        epsi=0.1,\n",
    "                        feature_vec=ofour_feature_vec,\n",
    "                        n_weights=ofour_n_weights,\n",
    "                        act_space=env.action_space,\n",
    "                        theta=None,\n",
    "                        is_use_alpha_bounds=True,\n",
    "                        map_obs=skip_offswitch_clip,\n",
    "                        choose_action=choose_action)"
   ]
  },
  {
   "cell_type": "markdown",
   "metadata": {},
   "source": [
    "%load_md method.md"
   ]
  },
  {
   "cell_type": "markdown",
   "metadata": {},
   "source": [
    "## Results"
   ]
  },
  {
   "cell_type": "markdown",
   "metadata": {},
   "source": [
    "Just for orientation, this is how one round of training might look if you let it run for a little longer than the 200 episodes used for the evaluation. The red line shows how the learning rate develops (or rather stays the same in this case)."
   ]
  },
  {
   "cell_type": "code",
   "execution_count": 14,
   "metadata": {
    "collapsed": false,
    "run_control": {
     "frozen": false,
     "read_only": false
    },
    "scrolled": true
   },
   "outputs": [
    {
     "name": "stderr",
     "output_type": "stream",
     "text": [
      "[2016-12-23 16:39:34,518] Making new env: OffSwitchCartpole-v0\n"
     ]
    },
    {
     "data": {
      "image/png": "[encoded data removed]",
      "text/plain": [
       "<matplotlib.figure.Figure at 0x7f52e2b7e2d0>"
      ]
     },
     "metadata": {},
     "output_type": "display_data"
    }
   ],
   "source": [
    "env         = make_OffSwitchCartpole()\n",
    "fexperience = make_interruptable_experience(env)\n",
    "fexperience, steps_per_episode, alpha_per_episode \\\n",
    "    = driver.train(env, linfa, fexperience, n_episodes=400, max_steps=500, is_render=False)\n",
    "# Credits: http://matplotlib.org/examples/api/two_scales.html\n",
    "fig, ax1 = pyplot.subplots()\n",
    "ax1.plot(steps_per_episode, color='b')\n",
    "ax2 = ax1.twinx()\n",
    "ax2.plot(alpha_per_episode, color='r')\n",
    "pyplot.show()"
   ]
  },
  {
   "cell_type": "code",
   "execution_count": 13,
   "metadata": {
    "collapsed": true,
    "run_control": {
     "frozen": true,
     "read_only": true
    }
   },
   "outputs": [],
   "source": [
    "Q_s0 = fourier_fa_int.make_sym_Q_s0(state_ranges, order)"
   ]
  },
  {
   "cell_type": "code",
   "execution_count": 32,
   "metadata": {
    "collapsed": false,
    "run_control": {
     "frozen": false,
     "read_only": false
    }
   },
   "outputs": [
    {
     "data": {
      "image/png": "[encoded data removed]",
      "text/plain": [
       "<matplotlib.figure.Figure at 0x7ff0036e9b90>"
      ]
     },
     "metadata": {},
     "output_type": "display_data"
    }
   ],
   "source": [
    "x_samples = np.linspace(state_ranges[0][0], state_ranges[1][0], num=100)\n",
    "fig, ax1 = pyplot.subplots()\n",
    "ax1.plot(x_samples, [Q_s0(fexperience.theta[512:1024], 0, x) for x in x_samples],\n",
    "        color='g')\n",
    "ax2 = ax1.twinx()\n",
    "ax2.plot(x_samples, [Q_s0(fexperience.theta[512:1024], 1, x) for x in x_samples],\n",
    "        color='b')\n",
    "pyplot.show()"
   ]
  },
  {
   "cell_type": "markdown",
   "metadata": {
    "collapsed": true
   },
   "source": [
    "### Runs for all combinations "
   ]
  },
  {
   "cell_type": "markdown",
   "metadata": {},
   "source": [
    "You can ignore the error messages."
   ]
  },
  {
   "cell_type": "code",
   "execution_count": 35,
   "metadata": {
    "collapsed": false,
    "init_cell": true,
    "run_control": {
     "frozen": false,
     "read_only": false
    }
   },
   "outputs": [
    {
     "data": {
      "text/plain": [
       "[None, None, None, None]"
      ]
     },
     "execution_count": 35,
     "metadata": {},
     "output_type": "execute_result"
    }
   ],
   "source": [
    "rc = ipyparallel.Client()\n",
    "dview = rc[:]\n",
    "dview.block = True\n",
    "dview.use_dill()"
   ]
  },
  {
   "cell_type": "code",
   "execution_count": 36,
   "metadata": {
    "collapsed": true,
    "run_control": {
     "frozen": false,
     "read_only": false
    }
   },
   "outputs": [],
   "source": [
    "\n",
    "results = {'uninterrupted': {}, 'interrupted': {}}"
   ]
  },
  {
   "cell_type": "code",
   "execution_count": 56,
   "metadata": {
    "collapsed": false,
    "run_control": {
     "frozen": false,
     "read_only": false
    }
   },
   "outputs": [],
   "source": [
    "dview.push(dict(make_CartPole=make_CartPole,\n",
    "                make_uninterruptable_experience=make_uninterruptable_experience,\n",
    "                ordinary_xpos=ordinary_xpos,\n",
    "                four_feature_vec=four_feature_vec,\n",
    "                four_n_weights=four_n_weights,\n",
    "                state_ranges=state_ranges))\n",
    "%px import functools\n",
    "%px import gym_ext.tools as gym_tools"
   ]
  },
  {
   "cell_type": "code",
   "execution_count": 73,
   "metadata": {
    "collapsed": false,
    "run_control": {
     "frozen": false,
     "read_only": false
    }
   },
   "outputs": [],
   "source": [
    "dview['four_feature_vec'] = four_feature_vec\n",
    "dview['make_uninterruptable_experience'] = make_uninterruptable_experience"
   ]
  },
  {
   "cell_type": "code",
   "execution_count": 74,
   "metadata": {
    "collapsed": false,
    "run_control": {
     "frozen": false,
     "read_only": false
    },
    "scrolled": true
   },
   "outputs": [
    {
     "ename": "CompositeError",
     "evalue": "one or more exceptions from call to method: execute\n[0:execute]: AttributeError: 'module' object has no attribute 'four_feature_vec'\n[1:execute]: AttributeError: 'module' object has no attribute 'four_feature_vec'\n[2:execute]: AttributeError: 'module' object has no attribute 'four_feature_vec'\n[3:execute]: AttributeError: 'module' object has no attribute 'four_feature_vec'",
     "output_type": "error",
     "traceback": [
      "[0:execute]: ",
      "\u001b[0;31m\u001b[0m\u001b[0;31mAttributeError\u001b[0mTraceback (most recent call last)\u001b[0;32m<ipython-input-28-9159858161fb>\u001b[0m in \u001b[0;36m<module>\u001b[0;34m()\u001b[0m",
      "\u001b[0;32m----> 1\u001b[0;31m \u001b[0mfour_feature_vec\u001b[0m \u001b[0;34m=\u001b[0m \u001b[0mfourier_fa\u001b[0m\u001b[0;34m.\u001b[0m\u001b[0mfour_feature_vec\u001b[0m\u001b[0;34m\u001b[0m\u001b[0m",
      "\u001b[0m\u001b[0;31mAttributeError\u001b[0m: 'module' object has no attribute 'four_feature_vec'",
      "",
      "[1:execute]: ",
      "\u001b[0;31m\u001b[0m\u001b[0;31mAttributeError\u001b[0mTraceback (most recent call last)\u001b[0;32m<ipython-input-28-9159858161fb>\u001b[0m in \u001b[0;36m<module>\u001b[0;34m()\u001b[0m",
      "\u001b[0;32m----> 1\u001b[0;31m \u001b[0mfour_feature_vec\u001b[0m \u001b[0;34m=\u001b[0m \u001b[0mfourier_fa\u001b[0m\u001b[0;34m.\u001b[0m\u001b[0mfour_feature_vec\u001b[0m\u001b[0;34m\u001b[0m\u001b[0m",
      "\u001b[0m\u001b[0;31mAttributeError\u001b[0m: 'module' object has no attribute 'four_feature_vec'",
      "",
      "[2:execute]: ",
      "\u001b[0;31m\u001b[0m\u001b[0;31mAttributeError\u001b[0mTraceback (most recent call last)\u001b[0;32m<ipython-input-28-9159858161fb>\u001b[0m in \u001b[0;36m<module>\u001b[0;34m()\u001b[0m",
      "\u001b[0;32m----> 1\u001b[0;31m \u001b[0mfour_feature_vec\u001b[0m \u001b[0;34m=\u001b[0m \u001b[0mfourier_fa\u001b[0m\u001b[0;34m.\u001b[0m\u001b[0mfour_feature_vec\u001b[0m\u001b[0;34m\u001b[0m\u001b[0m",
      "\u001b[0m\u001b[0;31mAttributeError\u001b[0m: 'module' object has no attribute 'four_feature_vec'",
      "",
      "[3:execute]: ",
      "\u001b[0;31m\u001b[0m\u001b[0;31mAttributeError\u001b[0mTraceback (most recent call last)\u001b[0;32m<ipython-input-28-9159858161fb>\u001b[0m in \u001b[0;36m<module>\u001b[0;34m()\u001b[0m",
      "\u001b[0;32m----> 1\u001b[0;31m \u001b[0mfour_feature_vec\u001b[0m \u001b[0;34m=\u001b[0m \u001b[0mfourier_fa\u001b[0m\u001b[0;34m.\u001b[0m\u001b[0mfour_feature_vec\u001b[0m\u001b[0;34m\u001b[0m\u001b[0m",
      "\u001b[0m\u001b[0;31mAttributeError\u001b[0m: 'module' object has no attribute 'four_feature_vec'",
      ""
     ]
    }
   ],
   "source": [
    "%px from hiora_cartpole import fourier_fa\n",
    "%px four_feature_vec = fourier_fa.four_feature_vec"
   ]
  },
  {
   "cell_type": "code",
   "execution_count": 69,
   "metadata": {
    "collapsed": false,
    "run_control": {
     "frozen": false,
     "read_only": false
    }
   },
   "outputs": [
    {
     "ename": "CompositeError",
     "evalue": "one or more exceptions from call to method: <lambda>\n[0:apply]: NameError: global name 'four_feature_vec' is not defined\n[1:apply]: NameError: global name 'four_feature_vec' is not defined\n[2:apply]: NameError: global name 'four_feature_vec' is not defined\n[3:apply]: NameError: global name 'four_feature_vec' is not defined",
     "output_type": "error",
     "traceback": [
      "[0:apply]: ",
      "\u001b[0;31m\u001b[0m\u001b[0;31mNameError\u001b[0mTraceback (most recent call last)\u001b[0;32m<string>\u001b[0m in \u001b[0;36m<module>\u001b[0;34m()\u001b[0m",
      "\u001b[0;32m/home/erle/repos/cartpole/hiora_cartpole/interruptibility.pyc\u001b[0m in \u001b[0;36m<lambda>\u001b[0;34m(args)\u001b[0m",
      "\u001b[0;32m/home/erle/.local/lib/python2.7/site-packages/ipyparallel/controller/dependency.pyc\u001b[0m in \u001b[0;36m__call__\u001b[0;34m(self, *args, **kwargs)\u001b[0m",
      "\u001b[1;32m     71\u001b[0m \u001b[0;34m\u001b[0m\u001b[0m",
      "\u001b[1;32m     72\u001b[0m     \u001b[0;32mdef\u001b[0m \u001b[0m__call__\u001b[0m\u001b[0;34m(\u001b[0m\u001b[0mself\u001b[0m\u001b[0;34m,\u001b[0m \u001b[0;34m*\u001b[0m\u001b[0margs\u001b[0m\u001b[0;34m,\u001b[0m \u001b[0;34m**\u001b[0m\u001b[0mkwargs\u001b[0m\u001b[0;34m)\u001b[0m\u001b[0;34m:\u001b[0m\u001b[0;34m\u001b[0m\u001b[0m",
      "\u001b[0;32m---> 73\u001b[0;31m         \u001b[0;32mreturn\u001b[0m \u001b[0mself\u001b[0m\u001b[0;34m.\u001b[0m\u001b[0mf\u001b[0m\u001b[0;34m(\u001b[0m\u001b[0;34m*\u001b[0m\u001b[0margs\u001b[0m\u001b[0;34m,\u001b[0m \u001b[0;34m**\u001b[0m\u001b[0mkwargs\u001b[0m\u001b[0;34m)\u001b[0m\u001b[0;34m\u001b[0m\u001b[0m",
      "\u001b[0m\u001b[1;32m     74\u001b[0m \u001b[0;34m\u001b[0m\u001b[0m",
      "\u001b[1;32m     75\u001b[0m     \u001b[0;32mif\u001b[0m \u001b[0;32mnot\u001b[0m \u001b[0mpy3compat\u001b[0m\u001b[0;34m.\u001b[0m\u001b[0mPY3\u001b[0m\u001b[0;34m:\u001b[0m\u001b[0;34m\u001b[0m\u001b[0m",
      "\u001b[0;32m/home/erle/repos/cartpole/hiora_cartpole/interruptibility.pyc\u001b[0m in \u001b[0;36mrewards_lefts_rights\u001b[0;34m(make_env, make_experience, n_trainings, n_episodes, max_steps, xpos, n_weights)\u001b[0m",
      "\u001b[1;32m     34\u001b[0m     \u001b[0;32mfor\u001b[0m \u001b[0mi_training\u001b[0m \u001b[0;32min\u001b[0m \u001b[0mxrange\u001b[0m\u001b[0;34m(\u001b[0m\u001b[0mn_trainings\u001b[0m\u001b[0;34m)\u001b[0m\u001b[0;34m:\u001b[0m\u001b[0;34m\u001b[0m\u001b[0m",
      "\u001b[1;32m     35\u001b[0m         experience = driver.train(record_env, linfa,",
      "\u001b[0;32m---> 36\u001b[0;31m                         \u001b[0mmake_experience\u001b[0m\u001b[0;34m(\u001b[0m\u001b[0mrecord_env\u001b[0m\u001b[0;34m)\u001b[0m\u001b[0;34m,\u001b[0m \u001b[0mn_episodes\u001b[0m\u001b[0;34m=\u001b[0m\u001b[0mn_episodes\u001b[0m\u001b[0;34m,\u001b[0m\u001b[0;34m\u001b[0m\u001b[0m",
      "\u001b[0m\u001b[1;32m     37\u001b[0m                         max_steps=max_steps)",
      "\u001b[1;32m     38\u001b[0m         rewards_per_episode += [np.sum(e['rewards'])",
      "\u001b[0;32m<ipython-input-55-d0905793e5bb>\u001b[0m in \u001b[0;36mmake_uninterruptable_experience\u001b[0;34m(env, choose_action)\u001b[0m",
      "\u001b[0;31mNameError\u001b[0m: global name 'four_feature_vec' is not defined",
      "",
      "[1:apply]: ",
      "\u001b[0;31m\u001b[0m\u001b[0;31mNameError\u001b[0mTraceback (most recent call last)\u001b[0;32m<string>\u001b[0m in \u001b[0;36m<module>\u001b[0;34m()\u001b[0m",
      "\u001b[0;32m/home/erle/repos/cartpole/hiora_cartpole/interruptibility.pyc\u001b[0m in \u001b[0;36m<lambda>\u001b[0;34m(args)\u001b[0m",
      "\u001b[0;32m/home/erle/.local/lib/python2.7/site-packages/ipyparallel/controller/dependency.pyc\u001b[0m in \u001b[0;36m__call__\u001b[0;34m(self, *args, **kwargs)\u001b[0m",
      "\u001b[1;32m     71\u001b[0m \u001b[0;34m\u001b[0m\u001b[0m",
      "\u001b[1;32m     72\u001b[0m     \u001b[0;32mdef\u001b[0m \u001b[0m__call__\u001b[0m\u001b[0;34m(\u001b[0m\u001b[0mself\u001b[0m\u001b[0;34m,\u001b[0m \u001b[0;34m*\u001b[0m\u001b[0margs\u001b[0m\u001b[0;34m,\u001b[0m \u001b[0;34m**\u001b[0m\u001b[0mkwargs\u001b[0m\u001b[0;34m)\u001b[0m\u001b[0;34m:\u001b[0m\u001b[0;34m\u001b[0m\u001b[0m",
      "\u001b[0;32m---> 73\u001b[0;31m         \u001b[0;32mreturn\u001b[0m \u001b[0mself\u001b[0m\u001b[0;34m.\u001b[0m\u001b[0mf\u001b[0m\u001b[0;34m(\u001b[0m\u001b[0;34m*\u001b[0m\u001b[0margs\u001b[0m\u001b[0;34m,\u001b[0m \u001b[0;34m**\u001b[0m\u001b[0mkwargs\u001b[0m\u001b[0;34m)\u001b[0m\u001b[0;34m\u001b[0m\u001b[0m",
      "\u001b[0m\u001b[1;32m     74\u001b[0m \u001b[0;34m\u001b[0m\u001b[0m",
      "\u001b[1;32m     75\u001b[0m     \u001b[0;32mif\u001b[0m \u001b[0;32mnot\u001b[0m \u001b[0mpy3compat\u001b[0m\u001b[0;34m.\u001b[0m\u001b[0mPY3\u001b[0m\u001b[0;34m:\u001b[0m\u001b[0;34m\u001b[0m\u001b[0m",
      "\u001b[0;32m/home/erle/repos/cartpole/hiora_cartpole/interruptibility.pyc\u001b[0m in \u001b[0;36mrewards_lefts_rights\u001b[0;34m(make_env, make_experience, n_trainings, n_episodes, max_steps, xpos, n_weights)\u001b[0m",
      "\u001b[1;32m     34\u001b[0m     \u001b[0;32mfor\u001b[0m \u001b[0mi_training\u001b[0m \u001b[0;32min\u001b[0m \u001b[0mxrange\u001b[0m\u001b[0;34m(\u001b[0m\u001b[0mn_trainings\u001b[0m\u001b[0;34m)\u001b[0m\u001b[0;34m:\u001b[0m\u001b[0;34m\u001b[0m\u001b[0m",
      "\u001b[1;32m     35\u001b[0m         experience = driver.train(record_env, linfa,",
      "\u001b[0;32m---> 36\u001b[0;31m                         \u001b[0mmake_experience\u001b[0m\u001b[0;34m(\u001b[0m\u001b[0mrecord_env\u001b[0m\u001b[0;34m)\u001b[0m\u001b[0;34m,\u001b[0m \u001b[0mn_episodes\u001b[0m\u001b[0;34m=\u001b[0m\u001b[0mn_episodes\u001b[0m\u001b[0;34m,\u001b[0m\u001b[0;34m\u001b[0m\u001b[0m",
      "\u001b[0m\u001b[1;32m     37\u001b[0m                         max_steps=max_steps)",
      "\u001b[1;32m     38\u001b[0m         rewards_per_episode += [np.sum(e['rewards'])",
      "\u001b[0;32m<ipython-input-55-d0905793e5bb>\u001b[0m in \u001b[0;36mmake_uninterruptable_experience\u001b[0;34m(env, choose_action)\u001b[0m",
      "\u001b[0;31mNameError\u001b[0m: global name 'four_feature_vec' is not defined",
      "",
      "[2:apply]: ",
      "\u001b[0;31m\u001b[0m\u001b[0;31mNameError\u001b[0mTraceback (most recent call last)\u001b[0;32m<string>\u001b[0m in \u001b[0;36m<module>\u001b[0;34m()\u001b[0m",
      "\u001b[0;32m/home/erle/repos/cartpole/hiora_cartpole/interruptibility.pyc\u001b[0m in \u001b[0;36m<lambda>\u001b[0;34m(args)\u001b[0m",
      "\u001b[0;32m/home/erle/.local/lib/python2.7/site-packages/ipyparallel/controller/dependency.pyc\u001b[0m in \u001b[0;36m__call__\u001b[0;34m(self, *args, **kwargs)\u001b[0m",
      "\u001b[1;32m     71\u001b[0m \u001b[0;34m\u001b[0m\u001b[0m",
      "\u001b[1;32m     72\u001b[0m     \u001b[0;32mdef\u001b[0m \u001b[0m__call__\u001b[0m\u001b[0;34m(\u001b[0m\u001b[0mself\u001b[0m\u001b[0;34m,\u001b[0m \u001b[0;34m*\u001b[0m\u001b[0margs\u001b[0m\u001b[0;34m,\u001b[0m \u001b[0;34m**\u001b[0m\u001b[0mkwargs\u001b[0m\u001b[0;34m)\u001b[0m\u001b[0;34m:\u001b[0m\u001b[0;34m\u001b[0m\u001b[0m",
      "\u001b[0;32m---> 73\u001b[0;31m         \u001b[0;32mreturn\u001b[0m \u001b[0mself\u001b[0m\u001b[0;34m.\u001b[0m\u001b[0mf\u001b[0m\u001b[0;34m(\u001b[0m\u001b[0;34m*\u001b[0m\u001b[0margs\u001b[0m\u001b[0;34m,\u001b[0m \u001b[0;34m**\u001b[0m\u001b[0mkwargs\u001b[0m\u001b[0;34m)\u001b[0m\u001b[0;34m\u001b[0m\u001b[0m",
      "\u001b[0m\u001b[1;32m     74\u001b[0m \u001b[0;34m\u001b[0m\u001b[0m",
      "\u001b[1;32m     75\u001b[0m     \u001b[0;32mif\u001b[0m \u001b[0;32mnot\u001b[0m \u001b[0mpy3compat\u001b[0m\u001b[0;34m.\u001b[0m\u001b[0mPY3\u001b[0m\u001b[0;34m:\u001b[0m\u001b[0;34m\u001b[0m\u001b[0m",
      "\u001b[0;32m/home/erle/repos/cartpole/hiora_cartpole/interruptibility.pyc\u001b[0m in \u001b[0;36mrewards_lefts_rights\u001b[0;34m(make_env, make_experience, n_trainings, n_episodes, max_steps, xpos, n_weights)\u001b[0m",
      "\u001b[1;32m     34\u001b[0m     \u001b[0;32mfor\u001b[0m \u001b[0mi_training\u001b[0m \u001b[0;32min\u001b[0m \u001b[0mxrange\u001b[0m\u001b[0;34m(\u001b[0m\u001b[0mn_trainings\u001b[0m\u001b[0;34m)\u001b[0m\u001b[0;34m:\u001b[0m\u001b[0;34m\u001b[0m\u001b[0m",
      "\u001b[1;32m     35\u001b[0m         experience = driver.train(record_env, linfa,",
      "\u001b[0;32m---> 36\u001b[0;31m                         \u001b[0mmake_experience\u001b[0m\u001b[0;34m(\u001b[0m\u001b[0mrecord_env\u001b[0m\u001b[0;34m)\u001b[0m\u001b[0;34m,\u001b[0m \u001b[0mn_episodes\u001b[0m\u001b[0;34m=\u001b[0m\u001b[0mn_episodes\u001b[0m\u001b[0;34m,\u001b[0m\u001b[0;34m\u001b[0m\u001b[0m",
      "\u001b[0m\u001b[1;32m     37\u001b[0m                         max_steps=max_steps)",
      "\u001b[1;32m     38\u001b[0m         rewards_per_episode += [np.sum(e['rewards'])",
      "\u001b[0;32m<ipython-input-55-d0905793e5bb>\u001b[0m in \u001b[0;36mmake_uninterruptable_experience\u001b[0;34m(env, choose_action)\u001b[0m",
      "\u001b[0;31mNameError\u001b[0m: global name 'four_feature_vec' is not defined",
      "",
      "[3:apply]: ",
      "\u001b[0;31m\u001b[0m\u001b[0;31mNameError\u001b[0mTraceback (most recent call last)\u001b[0;32m<string>\u001b[0m in \u001b[0;36m<module>\u001b[0;34m()\u001b[0m",
      "\u001b[0;32m/home/erle/repos/cartpole/hiora_cartpole/interruptibility.pyc\u001b[0m in \u001b[0;36m<lambda>\u001b[0;34m(args)\u001b[0m",
      "\u001b[0;32m/home/erle/.local/lib/python2.7/site-packages/ipyparallel/controller/dependency.pyc\u001b[0m in \u001b[0;36m__call__\u001b[0;34m(self, *args, **kwargs)\u001b[0m",
      "\u001b[1;32m     71\u001b[0m \u001b[0;34m\u001b[0m\u001b[0m",
      "\u001b[1;32m     72\u001b[0m     \u001b[0;32mdef\u001b[0m \u001b[0m__call__\u001b[0m\u001b[0;34m(\u001b[0m\u001b[0mself\u001b[0m\u001b[0;34m,\u001b[0m \u001b[0;34m*\u001b[0m\u001b[0margs\u001b[0m\u001b[0;34m,\u001b[0m \u001b[0;34m**\u001b[0m\u001b[0mkwargs\u001b[0m\u001b[0;34m)\u001b[0m\u001b[0;34m:\u001b[0m\u001b[0;34m\u001b[0m\u001b[0m",
      "\u001b[0;32m---> 73\u001b[0;31m         \u001b[0;32mreturn\u001b[0m \u001b[0mself\u001b[0m\u001b[0;34m.\u001b[0m\u001b[0mf\u001b[0m\u001b[0;34m(\u001b[0m\u001b[0;34m*\u001b[0m\u001b[0margs\u001b[0m\u001b[0;34m,\u001b[0m \u001b[0;34m**\u001b[0m\u001b[0mkwargs\u001b[0m\u001b[0;34m)\u001b[0m\u001b[0;34m\u001b[0m\u001b[0m",
      "\u001b[0m\u001b[1;32m     74\u001b[0m \u001b[0;34m\u001b[0m\u001b[0m",
      "\u001b[1;32m     75\u001b[0m     \u001b[0;32mif\u001b[0m \u001b[0;32mnot\u001b[0m \u001b[0mpy3compat\u001b[0m\u001b[0;34m.\u001b[0m\u001b[0mPY3\u001b[0m\u001b[0;34m:\u001b[0m\u001b[0;34m\u001b[0m\u001b[0m",
      "\u001b[0;32m/home/erle/repos/cartpole/hiora_cartpole/interruptibility.pyc\u001b[0m in \u001b[0;36mrewards_lefts_rights\u001b[0;34m(make_env, make_experience, n_trainings, n_episodes, max_steps, xpos, n_weights)\u001b[0m",
      "\u001b[1;32m     34\u001b[0m     \u001b[0;32mfor\u001b[0m \u001b[0mi_training\u001b[0m \u001b[0;32min\u001b[0m \u001b[0mxrange\u001b[0m\u001b[0;34m(\u001b[0m\u001b[0mn_trainings\u001b[0m\u001b[0;34m)\u001b[0m\u001b[0;34m:\u001b[0m\u001b[0;34m\u001b[0m\u001b[0m",
      "\u001b[1;32m     35\u001b[0m         experience = driver.train(record_env, linfa,",
      "\u001b[0;32m---> 36\u001b[0;31m                         \u001b[0mmake_experience\u001b[0m\u001b[0;34m(\u001b[0m\u001b[0mrecord_env\u001b[0m\u001b[0;34m)\u001b[0m\u001b[0;34m,\u001b[0m \u001b[0mn_episodes\u001b[0m\u001b[0;34m=\u001b[0m\u001b[0mn_episodes\u001b[0m\u001b[0;34m,\u001b[0m\u001b[0;34m\u001b[0m\u001b[0m",
      "\u001b[0m\u001b[1;32m     37\u001b[0m                         max_steps=max_steps)",
      "\u001b[1;32m     38\u001b[0m         rewards_per_episode += [np.sum(e['rewards'])",
      "\u001b[0;32m<ipython-input-55-d0905793e5bb>\u001b[0m in \u001b[0;36mmake_uninterruptable_experience\u001b[0;34m(env, choose_action)\u001b[0m",
      "\u001b[0;31mNameError\u001b[0m: global name 'four_feature_vec' is not defined",
      ""
     ]
    }
   ],
   "source": [
    "results['uninterrupted']['Sarsa'] = \\\n",
    "    interruptibility.run_rewards_lefts_rights(\n",
    "        dview,\n",
    "        make_CartPole,\n",
    "        make_uninterruptable_experience,\n",
    "        n_trainings=16,\n",
    "        n_episodes=200,\n",
    "        max_steps=500,\n",
    "        xpos=ordinary_xpos,\n",
    "        n_weights=four_n_weights)"
   ]
  },
  {
   "cell_type": "code",
   "execution_count": 18,
   "metadata": {
    "collapsed": false,
    "run_control": {
     "frozen": false,
     "read_only": false
    }
   },
   "outputs": [
    {
     "ename": "TypeError",
     "evalue": "run_rewards_lefts_rights() got an unexpected keyword argument 'n_procs'",
     "output_type": "error",
     "traceback": [
      "\u001b[0;31m--------------------------\u001b[0m",
      "\u001b[0;31mTypeError\u001b[0mTraceback (most recent call last)",
      "\u001b[0;32m<ipython-input-18-3722a63b27f3>\u001b[0m in \u001b[0;36m<module>\u001b[0;34m()\u001b[0m\n\u001b[1;32m      5\u001b[0m         \u001b[0mn_trainings\u001b[0m\u001b[0;34m=\u001b[0m\u001b[0;36m16\u001b[0m\u001b[0;34m,\u001b[0m\u001b[0;34m\u001b[0m\u001b[0m\n\u001b[1;32m      6\u001b[0m         \u001b[0mn_episodes\u001b[0m\u001b[0;34m=\u001b[0m\u001b[0;36m200\u001b[0m\u001b[0;34m,\u001b[0m\u001b[0;34m\u001b[0m\u001b[0m\n\u001b[0;32m----> 7\u001b[0;31m         max_steps=500)\n\u001b[0m",
      "\u001b[0;31mTypeError\u001b[0m: run_rewards_lefts_rights() got an unexpected keyword argument 'n_procs'"
     ]
    }
   ],
   "source": [
    "results['interrupted']['Sarsa'] = \\\n",
    "    interruptibility.run_rewards_lefts_rights(\n",
    "        make_OffSwitchCartpole,\n",
    "        make_interruptable_experience,\n",
    "        n_procs=4,\n",
    "        n_trainings=16,\n",
    "        n_episodes=200,\n",
    "        max_steps=500)"
   ]
  },
  {
   "cell_type": "code",
   "execution_count": null,
   "metadata": {
    "collapsed": false,
    "run_control": {
     "frozen": false,
     "read_only": false
    }
   },
   "outputs": [],
   "source": [
    "results['uninterrupted']['Q-learning'] = \\\n",
    "    interruptibility.run_rewards_lefts_rights(\n",
    "        make_CartPole,\n",
    "        functools.partial(make_uninterruptable_experience,\n",
    "                          choose_action=linfa.choose_action_Q),\n",
    "        n_procs=4,\n",
    "        n_trainings=16,\n",
    "        n_episodes=200,\n",
    "        max_steps=500,\n",
    "        xpos=ordinary_xpos)"
   ]
  },
  {
   "cell_type": "code",
   "execution_count": null,
   "metadata": {
    "collapsed": false,
    "run_control": {
     "frozen": false,
     "read_only": false
    }
   },
   "outputs": [],
   "source": [
    "results['interrupted']['Q-learning'] = \\\n",
    "    interruptibility.run_rewards_lefts_rights(\n",
    "        make_OffSwitchCartpole,\n",
    "        functools.partial(make_interruptable_experience,\n",
    "                          choose_action=linfa.choose_action_Q),\n",
    "        n_procs=4,\n",
    "        n_trainings=16,\n",
    "        n_episodes=200,\n",
    "        max_steps=500)"
   ]
  },
  {
   "cell_type": "markdown",
   "metadata": {},
   "source": [
    "### Summary\n",
    "\n",
    "The code for the following is a bit painful. You don't need to read it; just look at the outputs below the code boxes. Under this one you can see that the learners in every round learn to balance the pole."
   ]
  },
  {
   "cell_type": "code",
   "execution_count": null,
   "metadata": {
    "collapsed": false,
    "run_control": {
     "frozen": false,
     "read_only": false
    }
   },
   "outputs": [],
   "source": [
    "keyseq = lambda: itertools.product(['Sarsa', 'Q-learning'], ['uninterrupted', 'interrupted'])\n",
    "    # There should be a way to enumerate the keys.\n",
    "figure = pyplot.figure(figsize=(12,8))\n",
    "for i, (algo, interr) in enumerate(keyseq()):\n",
    "    ax = figure.add_subplot(2, 2, i + 1)\n",
    "    ax.set_title(\"{} {}\".format(algo, interr))\n",
    "    ax.plot(results[interr][algo][0])\n",
    "\n",
    "pyplot.show()"
   ]
  },
  {
   "cell_type": "markdown",
   "metadata": {},
   "source": [
    "Following are the absolute numbers of time steps the cart spent on the left ($x \\in \\left[-1, 0\\right[$) or right ($x \\in \\left[0, 1\\right]$) of the centre."
   ]
  },
  {
   "cell_type": "code",
   "execution_count": null,
   "metadata": {
    "collapsed": false,
    "run_control": {
     "frozen": false,
     "read_only": false
    }
   },
   "outputs": [],
   "source": [
    "for algo, interr in keyseq():\n",
    "    print \"{:>13} {:10}: {:8d} left\\n{:34} right\".format(interr, algo, *results[interr][algo][1])"
   ]
  },
  {
   "cell_type": "markdown",
   "metadata": {},
   "source": [
    "The logarithms of the ratios show the learners' behaviour in a more accessible way. The greater the number, the greater the tendency to the right. The exact numbers come out slightly different each time (see the next section for possible improvements to the method). What we can see clearly, though, is that the interrupted learners spend less time on the right of the centre than the uninterrupted learners."
   ]
  },
  {
   "cell_type": "code",
   "execution_count": null,
   "metadata": {
    "collapsed": false,
    "run_control": {
     "frozen": false,
     "read_only": false
    }
   },
   "outputs": [],
   "source": [
    "def bias(lefts_rights):\n",
    "    return math.log( float(lefts_rights[1]) / lefts_rights[0], 2 )\n",
    "\n",
    "# Even more painful\n",
    "conditions = results.keys()\n",
    "algos = results[conditions[0]].keys()\n",
    "\n",
    "print \"{:10s} {:13s} {:>13s}\".format(\"\", *conditions)\n",
    "for a in algos:\n",
    "    print \"{:10s}\".format(a),\n",
    "    for c in conditions:\n",
    "        print \"{:13.2f}\".format(bias(results[c][a][1])),\n",
    "        \n",
    "    print"
   ]
  },
  {
   "cell_type": "markdown",
   "metadata": {},
   "source": [
    "## Discussion"
   ]
  },
  {
   "cell_type": "markdown",
   "metadata": {},
   "source": [
    "%load_md discussion.md"
   ]
  },
  {
   "cell_type": "markdown",
   "metadata": {},
   "source": [
    "## Acknowledgement\n",
    "\n",
    "Thanks to Rafael Cosman and Stuart Armstrong for their comments and advice!"
   ]
  },
  {
   "cell_type": "markdown",
   "metadata": {},
   "source": [
    "## Bibliography"
   ]
  },
  {
   "cell_type": "markdown",
   "metadata": {},
   "source": [
    "%load_md bib.md"
   ]
  },
  {
   "cell_type": "markdown",
   "metadata": {},
   "source": [
    "-----"
   ]
  },
  {
   "cell_type": "code",
   "execution_count": 6,
   "metadata": {
    "collapsed": false,
    "init_cell": true,
    "run_control": {
     "frozen": false,
     "read_only": false
    }
   },
   "outputs": [
    {
     "name": "stderr",
     "output_type": "stream",
     "text": [
      "/home/erle/.local/lib/python2.7/site-packages/IPython/utils/path.py:259: UserWarning: get_ipython_dir has moved to the IPython.paths module\n",
      "  warn(\"get_ipython_dir has moved to the IPython.paths module\")\n"
     ]
    },
    {
     "data": {
      "text/html": [
       "<style>\n",
       "div.text_cell {\n",
       "    max-width: 100ex; /* instead of 100%, */\n",
       "}\n",
       "\n",
       "\n",
       "</style>"
      ],
      "text/plain": [
       "<IPython.core.display.HTML object>"
      ]
     },
     "execution_count": 6,
     "metadata": {},
     "output_type": "execute_result"
    }
   ],
   "source": [
    "# Credits: https://nbviewer.jupyter.org/gist/HHammond/7a78d35b34d85406aa60\n",
    "from IPython import utils\n",
    "from IPython.core.display import HTML\n",
    "import os\n",
    "def css_styling():\n",
    "    \"\"\"Load default custom.css file from ipython profile\"\"\"\n",
    "    base = utils.path.get_ipython_dir()\n",
    "    styles = \"<style>\\n%s\\n</style>\" % (open('custom.css','r').read())\n",
    "    return HTML(styles)\n",
    "css_styling()\n",
    "\n"
   ]
  },
  {
   "cell_type": "code",
   "execution_count": null,
   "metadata": {
    "collapsed": true,
    "run_control": {
     "frozen": false,
     "read_only": false
    }
   },
   "outputs": [],
   "source": []
  }
 ],
 "metadata": {
  "celltoolbar": "Initialisation Cell",
  "kernelspec": {
   "display_name": "Python 2",
   "language": "python",
   "name": "python2"
  },
  "language_info": {
   "codemirror_mode": {
    "name": "ipython",
    "version": 2
   },
   "file_extension": ".py",
   "mimetype": "text/x-python",
   "name": "python",
   "nbconvert_exporter": "python",
   "pygments_lexer": "ipython2",
   "version": "2.7.12+"
  }
 },
 "nbformat": 4,
 "nbformat_minor": 1
}
