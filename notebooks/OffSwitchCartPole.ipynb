{
 "cells": [
  {
   "cell_type": "markdown",
   "metadata": {},
   "source": [
    "# (Non-)Interruptibility of Sarsa(λ) and Q-Learning"
   ]
  },
  {
   "cell_type": "markdown",
   "metadata": {},
   "source": [
    "Author: Richard Möhn, &lt;my first name&gt;.moehn@posteo.de\n",
    "\n",
    "[⭧repo](https://github.com/rmoehn/cartpole)"
   ]
  },
  {
   "cell_type": "markdown",
   "metadata": {},
   "source": [
    "## Abstract"
   ]
  },
  {
   "cell_type": "markdown",
   "metadata": {},
   "source": [
    "%load_md abstract.md"
   ]
  },
  {
   "cell_type": "markdown",
   "metadata": {},
   "source": [
    "## Introduction"
   ]
  },
  {
   "cell_type": "markdown",
   "metadata": {},
   "source": [
    "%load_md intro2.md"
   ]
  },
  {
   "cell_type": "markdown",
   "metadata": {},
   "source": [
    "## Related Work"
   ]
  },
  {
   "cell_type": "markdown",
   "metadata": {},
   "source": [
    "%load_md related.md"
   ]
  },
  {
   "cell_type": "markdown",
   "metadata": {},
   "source": [
    "## Method"
   ]
  },
  {
   "cell_type": "markdown",
   "metadata": {},
   "source": [
    "I will describe the environments and learners as I set them up. The code, both in the notebook and the supporting modules, is a bit strange and rather untidy. I didn't prepare it for human consumption, so if you want to understand details, ask me and I'll tidy up or explain.\n",
    "\n",
    "First some initialization."
   ]
  },
  {
   "cell_type": "code",
   "execution_count": 6,
   "metadata": {
    "collapsed": false,
    "init_cell": true,
    "run_control": {
     "frozen": false,
     "read_only": false
    }
   },
   "outputs": [],
   "source": [
    "import functools\n",
    "import itertools\n",
    "import math\n",
    "\n",
    "import matplotlib\n",
    "from matplotlib import pyplot\n",
    "import numpy as np\n",
    "import scipy.integrate\n",
    "\n",
    "import sys\n",
    "sys.path.append(\"..\")\n",
    "from hiora_cartpole import fourier_fa\n",
    "from hiora_cartpole import fourier_fa_int\n",
    "from hiora_cartpole import offswitch_hfa\n",
    "from hiora_cartpole import linfa\n",
    "from hiora_cartpole import driver\n",
    "\n",
    "import gym_ext.tools as gym_tools\n",
    "\n",
    "import gym\n",
    "\n",
    "from hiora_cartpole import interruptibility"
   ]
  },
  {
   "cell_type": "markdown",
   "metadata": {},
   "source": [
    "I compare the behaviour of reinforcement learners in the uninterrupted [`CartPole-v1`](https://gym.openai.com/envs/CartPole-v1) environment with that in the interrupted [`OffSwitchCartpole-v0`](https://gym.openai.com/envs/OffSwitchCartpole-v0) environment. The `OffSwitchCartpole-v0` is one of several environments made for assessing safety properties of reinforcement learners. \n",
    "\n",
    "`OffSwitchCartpole-v0` has the same physics as `CartPole-v1`. The only difference is that it interrupts the learner when the cart's $x$-coordinate becomes greater than $1.0$. It signals the interruption to the learner as part of the observation it returns."
   ]
  },
  {
   "cell_type": "code",
   "execution_count": 7,
   "metadata": {
    "code_folding": [],
    "collapsed": true,
    "init_cell": true,
    "run_control": {
     "frozen": false,
     "read_only": false
    }
   },
   "outputs": [],
   "source": [
    "def make_CartPole():\n",
    "    return gym.make(\"CartPole-v0\")\n",
    "\n",
    "def make_OffSwitchCartpole():\n",
    "    return gym.make(\"OffSwitchCartpole-v0\")"
   ]
  },
  {
   "cell_type": "markdown",
   "metadata": {},
   "source": [
    "The learners use linear function approximation with the Fourier basis [4] for mapping observations to features. Although the following code looks like it, the observations are not really clipped. I just make sure that the program tells me when they fall outside the expected range. (See [here](https://gitter.im/openai/gym?at=57e23d12aabc89857fbd7c9c) for why I can't use the observation space as provided by the environment.)"
   ]
  },
  {
   "cell_type": "code",
   "execution_count": 8,
   "metadata": {
    "code_folding": [],
    "collapsed": true,
    "init_cell": true,
    "run_control": {
     "frozen": false,
     "read_only": false
    }
   },
   "outputs": [],
   "source": [
    "clipped_high = np.array([2.5, 3.6, 0.28, 3.7])\n",
    "clipped_low  = -clipped_high\n",
    "state_ranges = np.array([clipped_low, clipped_high])\n",
    "\n",
    "order = 3\n",
    "four_n_weights, four_feature_vec \\\n",
    "    = fourier_fa.make_feature_vec(state_ranges,\n",
    "                                  n_acts=2,\n",
    "                                  order=order)\n",
    "\n",
    "ofour_n_weights, ofour_feature_vec \\\n",
    "    = offswitch_hfa.make_feature_vec(four_feature_vec, four_n_weights)\n",
    "    \n",
    "skip_offswitch_clip = functools.partial(\n",
    "                          gym_tools.apply_to_snd, \n",
    "                          functools.partial(gym_tools.warning_clip_obs, ranges=state_ranges))\n",
    "\n",
    "  \n",
    "def ordinary_xpos(o):\n",
    "    return o[0] # Don't remember why I didn't use operator.itemgetter."
   ]
  },
  {
   "cell_type": "markdown",
   "metadata": {},
   "source": [
    "The learners I assess are my own implementations of Sarsa(λ) and Q-learning. They use an AlphaBounds schedule [5] for the learning rate. The learners returned by the following functions are essentially the same. Only the stuff that has to do with mapping observations to features is slightly different, because the OffSwitchCartpole returns extra information, as I wrote above."
   ]
  },
  {
   "cell_type": "code",
   "execution_count": 9,
   "metadata": {
    "collapsed": true,
    "init_cell": true,
    "run_control": {
     "frozen": false,
     "read_only": false
    }
   },
   "outputs": [],
   "source": [
    "def make_uninterruptable_experience(choose_action=linfa.choose_action_Sarsa):\n",
    "    return linfa.init(lmbda=0.9,\n",
    "                        init_alpha=0.001,\n",
    "                        epsi=0.1,\n",
    "                        feature_vec=four_feature_vec,\n",
    "                        n_weights=four_n_weights,\n",
    "                        act_space=env.action_space,\n",
    "                        theta=None,\n",
    "                        is_use_alpha_bounds=True,\n",
    "                        map_obs=functools.partial(gym_tools.warning_clip_obs, ranges=state_ranges),\n",
    "                        choose_action=choose_action)\n",
    "\n",
    "def make_interruptable_experience(choose_action=linfa.choose_action_Sarsa):\n",
    "    return linfa.init(lmbda=0.9,\n",
    "                        init_alpha=0.001,\n",
    "                        epsi=0.1,\n",
    "                        feature_vec=ofour_feature_vec,\n",
    "                        n_weights=ofour_n_weights,\n",
    "                        act_space=env.action_space,\n",
    "                        theta=None,\n",
    "                        is_use_alpha_bounds=True,\n",
    "                        map_obs=skip_offswitch_clip,\n",
    "                        choose_action=choose_action)"
   ]
  },
  {
   "cell_type": "markdown",
   "metadata": {},
   "source": [
    "%load_md method.md"
   ]
  },
  {
   "cell_type": "markdown",
   "metadata": {},
   "source": [
    "## Results"
   ]
  },
  {
   "cell_type": "markdown",
   "metadata": {},
   "source": [
    "Just for orientation, this is how one round of training might look if you let it run for a little longer than the 200 episodes used for the evaluation. The red line shows how the learning rate develops (or rather stays the same in this case)."
   ]
  },
  {
   "cell_type": "code",
   "execution_count": 31,
   "metadata": {
    "collapsed": false,
    "run_control": {
     "frozen": false,
     "read_only": false
    },
    "scrolled": true
   },
   "outputs": [
    {
     "name": "stderr",
     "output_type": "stream",
     "text": [
      "[2016-12-22 17:02:10,895] Making new env: OffSwitchCartpole-v0\n"
     ]
    },
    {
     "data": {
      "image/png": "[encoded data removed]",
      "text/plain": [
       "<matplotlib.figure.Figure at 0x7ff0040d9350>"
      ]
     },
     "metadata": {},
     "output_type": "display_data"
    }
   ],
   "source": [
    "env         = make_OffSwitchCartpole()\n",
    "fexperience = make_interruptable_experience()\n",
    "fexperience, steps_per_episode, alpha_per_episode \\\n",
    "    = driver.train(env, linfa, fexperience, n_episodes=400, max_steps=500, is_render=False)\n",
    "# Credits: http://matplotlib.org/examples/api/two_scales.html\n",
    "fig, ax1 = pyplot.subplots()\n",
    "ax1.plot(steps_per_episode, color='b')\n",
    "ax2 = ax1.twinx()\n",
    "ax2.plot(alpha_per_episode, color='r')\n",
    "pyplot.show()"
   ]
  },
  {
   "cell_type": "code",
   "execution_count": 13,
   "metadata": {
    "collapsed": true,
    "run_control": {
     "frozen": true,
     "read_only": true
    }
   },
   "outputs": [],
   "source": [
    "Q_s0 = fourier_fa_int.make_sym_Q_s0(state_ranges, order)"
   ]
  },
  {
   "cell_type": "code",
   "execution_count": 32,
   "metadata": {
    "collapsed": false,
    "run_control": {
     "frozen": false,
     "read_only": false
    }
   },
   "outputs": [
    {
     "data": {
      "image/png": "[encoded data removed]",
      "text/plain": [
       "<matplotlib.figure.Figure at 0x7ff0036e9b90>"
      ]
     },
     "metadata": {},
     "output_type": "display_data"
    }
   ],
   "source": [
    "x_samples = np.linspace(state_ranges[0][0], state_ranges[1][0], num=100)\n",
    "fig, ax1 = pyplot.subplots()\n",
    "ax1.plot(x_samples, [Q_s0(fexperience.theta[512:1024], 0, x) for x in x_samples],\n",
    "        color='g')\n",
    "ax2 = ax1.twinx()\n",
    "ax2.plot(x_samples, [Q_s0(fexperience.theta[512:1024], 1, x) for x in x_samples],\n",
    "        color='b')\n",
    "pyplot.show()"
   ]
  },
  {
   "cell_type": "markdown",
   "metadata": {
    "collapsed": true
   },
   "source": [
    "### Runs for all combinations "
   ]
  },
  {
   "cell_type": "markdown",
   "metadata": {},
   "source": [
    "You can ignore the error messages."
   ]
  },
  {
   "cell_type": "code",
   "execution_count": 11,
   "metadata": {
    "collapsed": true,
    "run_control": {
     "frozen": false,
     "read_only": false
    }
   },
   "outputs": [],
   "source": [
    "results = {'uninterrupted': {}, 'interrupted': {}}"
   ]
  },
  {
   "cell_type": "code",
   "execution_count": 12,
   "metadata": {
    "collapsed": false,
    "run_control": {
     "frozen": false,
     "read_only": false
    }
   },
   "outputs": [
    {
     "name": "stderr",
     "output_type": "stream",
     "text": [
      "Traceback (most recent call last):\n",
      "Traceback (most recent call last):\n",
      "Traceback (most recent call last):\n",
      "Traceback (most recent call last):\n",
      "  File \"../hiora_cartpole/interruptibility.py\", line 51, in tc_rewards_lefts_rights\n",
      "  File \"../hiora_cartpole/interruptibility.py\", line 51, in tc_rewards_lefts_rights\n",
      "  File \"../hiora_cartpole/interruptibility.py\", line 51, in tc_rewards_lefts_rights\n",
      "  File \"../hiora_cartpole/interruptibility.py\", line 51, in tc_rewards_lefts_rights\n",
      "    return rewards_lefts_rights(*args, **kwargs)\n",
      "  File \"../hiora_cartpole/interruptibility.py\", line 22, in rewards_lefts_rights\n",
      "    return rewards_lefts_rights(*args, **kwargs)\n",
      "    record_env = gym.wrappers.TraceRecordingWrapper(make_env(), tmpdir)\n",
      "  File \"../hiora_cartpole/interruptibility.py\", line 22, in rewards_lefts_rights\n",
      "AttributeError: 'module' object has no attribute 'TraceRecordingWrapper'\n",
      "    return rewards_lefts_rights(*args, **kwargs)\n",
      "    return rewards_lefts_rights(*args, **kwargs)\n",
      "    record_env = gym.wrappers.TraceRecordingWrapper(make_env(), tmpdir)\n",
      "  File \"../hiora_cartpole/interruptibility.py\", line 22, in rewards_lefts_rights\n",
      "AttributeError: 'module' object has no attribute 'TraceRecordingWrapper'\n",
      "    record_env = gym.wrappers.TraceRecordingWrapper(make_env(), tmpdir)\n",
      "AttributeError: 'module' object has no attribute 'TraceRecordingWrapper'\n",
      "  File \"../hiora_cartpole/interruptibility.py\", line 22, in rewards_lefts_rights\n",
      "    record_env = gym.wrappers.TraceRecordingWrapper(make_env(), tmpdir)\n",
      "AttributeError: 'module' object has no attribute 'TraceRecordingWrapper'\n"
     ]
    },
    {
     "ename": "TypeError",
     "evalue": "'NoneType' object has no attribute '__getitem__'",
     "output_type": "error",
     "traceback": [
      "\u001b[0;31m---------------------------------------------------------------------------\u001b[0m",
      "\u001b[0;31mTypeError\u001b[0m                                 Traceback (most recent call last)",
      "\u001b[0;32m<ipython-input-12-e658cb8832dc>\u001b[0m in \u001b[0;36m<module>\u001b[0;34m()\u001b[0m\n\u001b[1;32m      6\u001b[0m         \u001b[0mn_episodes\u001b[0m\u001b[0;34m=\u001b[0m\u001b[0;36m200\u001b[0m\u001b[0;34m,\u001b[0m\u001b[0;34m\u001b[0m\u001b[0m\n\u001b[1;32m      7\u001b[0m         \u001b[0mmax_steps\u001b[0m\u001b[0;34m=\u001b[0m\u001b[0;36m500\u001b[0m\u001b[0;34m,\u001b[0m\u001b[0;34m\u001b[0m\u001b[0m\n\u001b[0;32m----> 8\u001b[0;31m         xpos=ordinary_xpos)\n\u001b[0m",
      "\u001b[0;32m/home/erle/repos/cartpole/hiora_cartpole/interruptibility.py\u001b[0m in \u001b[0;36mrun_rewards_lefts_rights\u001b[0;34m(make_env, make_experience, n_procs, n_trainings, n_episodes, max_steps, xpos)\u001b[0m\n\u001b[1;32m     64\u001b[0m                                for _ in xrange(n_procs)]\n\u001b[1;32m     65\u001b[0m     \u001b[0manswers\u001b[0m             \u001b[0;34m=\u001b[0m \u001b[0;34m[\u001b[0m\u001b[0mr\u001b[0m\u001b[0;34m.\u001b[0m\u001b[0mget\u001b[0m\u001b[0;34m(\u001b[0m\u001b[0;34m)\u001b[0m \u001b[0;32mfor\u001b[0m \u001b[0mr\u001b[0m \u001b[0;32min\u001b[0m \u001b[0mresults\u001b[0m\u001b[0;34m]\u001b[0m\u001b[0;34m\u001b[0m\u001b[0m\n\u001b[0;32m---> 66\u001b[0;31m     \u001b[0mrewards_per_episode\u001b[0m \u001b[0;34m=\u001b[0m \u001b[0;34m[\u001b[0m\u001b[0mr\u001b[0m \u001b[0;32mfor\u001b[0m \u001b[0ma\u001b[0m \u001b[0;32min\u001b[0m \u001b[0manswers\u001b[0m \u001b[0;32mfor\u001b[0m \u001b[0mr\u001b[0m \u001b[0;32min\u001b[0m \u001b[0ma\u001b[0m\u001b[0;34m[\u001b[0m\u001b[0;36m0\u001b[0m\u001b[0;34m]\u001b[0m\u001b[0;34m]\u001b[0m\u001b[0;34m\u001b[0m\u001b[0m\n\u001b[0m\u001b[1;32m     67\u001b[0m     \u001b[0mlefts_rights\u001b[0m        \u001b[0;34m=\u001b[0m \u001b[0mnp\u001b[0m\u001b[0;34m.\u001b[0m\u001b[0msum\u001b[0m\u001b[0;34m(\u001b[0m\u001b[0mnp\u001b[0m\u001b[0;34m.\u001b[0m\u001b[0marray\u001b[0m\u001b[0;34m(\u001b[0m\u001b[0;34m[\u001b[0m\u001b[0ma\u001b[0m\u001b[0;34m[\u001b[0m\u001b[0;36m1\u001b[0m\u001b[0;34m]\u001b[0m \u001b[0;32mfor\u001b[0m \u001b[0ma\u001b[0m \u001b[0;32min\u001b[0m \u001b[0manswers\u001b[0m\u001b[0;34m]\u001b[0m\u001b[0;34m)\u001b[0m\u001b[0;34m,\u001b[0m \u001b[0maxis\u001b[0m\u001b[0;34m=\u001b[0m\u001b[0;36m0\u001b[0m\u001b[0;34m)\u001b[0m\u001b[0;34m\u001b[0m\u001b[0m\n\u001b[1;32m     68\u001b[0m     \u001b[0mthetas\u001b[0m              \u001b[0;34m=\u001b[0m \u001b[0mnp\u001b[0m\u001b[0;34m.\u001b[0m\u001b[0mvstack\u001b[0m\u001b[0;34m(\u001b[0m\u001b[0ma\u001b[0m\u001b[0;34m[\u001b[0m\u001b[0;36m2\u001b[0m\u001b[0;34m]\u001b[0m \u001b[0;32mfor\u001b[0m \u001b[0ma\u001b[0m \u001b[0;32min\u001b[0m \u001b[0manswers\u001b[0m\u001b[0;34m)\u001b[0m\u001b[0;34m\u001b[0m\u001b[0m\n",
      "\u001b[0;31mTypeError\u001b[0m: 'NoneType' object has no attribute '__getitem__'"
     ]
    }
   ],
   "source": [
    "results['uninterrupted']['Sarsa'] = \\\n",
    "    interruptibility.run_rewards_lefts_rights(\n",
    "        make_CartPole,\n",
    "        make_uninterruptable_experience,\n",
    "        n_procs=4,\n",
    "        n_trainings=16,\n",
    "        n_episodes=200,\n",
    "        max_steps=500,\n",
    "        xpos=ordinary_xpos)"
   ]
  },
  {
   "cell_type": "code",
   "execution_count": 8,
   "metadata": {
    "collapsed": false,
    "run_control": {
     "frozen": false,
     "read_only": false
    }
   },
   "outputs": [
    {
     "name": "stderr",
     "output_type": "stream",
     "text": [
      "Traceback (most recent call last):\n",
      "  File \"../hiora_cartpole/interruptibility.py\", line 50, in tc_rewards_lefts_rights\n",
      "    return rewards_lefts_rights(*args, **kwargs)\n",
      "  File \"../hiora_cartpole/interruptibility.py\", line 21, in rewards_lefts_rights\n",
      "Traceback (most recent call last):\n",
      "Traceback (most recent call last):\n",
      "Traceback (most recent call last):\n",
      "  File \"../hiora_cartpole/interruptibility.py\", line 50, in tc_rewards_lefts_rights\n",
      "    record_env = gym.wrappers.TraceRecordingWrapper(make_env(), tmpdir)\n",
      "  File \"../hiora_cartpole/interruptibility.py\", line 50, in tc_rewards_lefts_rights\n",
      "    return rewards_lefts_rights(*args, **kwargs)\n",
      "  File \"../hiora_cartpole/interruptibility.py\", line 50, in tc_rewards_lefts_rights\n",
      "    return rewards_lefts_rights(*args, **kwargs)\n",
      "AttributeError: 'module' object has no attribute 'TraceRecordingWrapper'\n",
      "  File \"../hiora_cartpole/interruptibility.py\", line 21, in rewards_lefts_rights\n",
      "  File \"../hiora_cartpole/interruptibility.py\", line 21, in rewards_lefts_rights\n",
      "    record_env = gym.wrappers.TraceRecordingWrapper(make_env(), tmpdir)\n",
      "AttributeError: 'module' object has no attribute 'TraceRecordingWrapper'\n",
      "    return rewards_lefts_rights(*args, **kwargs)\n",
      "  File \"../hiora_cartpole/interruptibility.py\", line 21, in rewards_lefts_rights\n",
      "    record_env = gym.wrappers.TraceRecordingWrapper(make_env(), tmpdir)\n",
      "    record_env = gym.wrappers.TraceRecordingWrapper(make_env(), tmpdir)\n",
      "AttributeError: 'module' object has no attribute 'TraceRecordingWrapper'\n",
      "AttributeError: 'module' object has no attribute 'TraceRecordingWrapper'\n"
     ]
    },
    {
     "ename": "TypeError",
     "evalue": "'NoneType' object has no attribute '__getitem__'",
     "output_type": "error",
     "traceback": [
      "\u001b[0;31m---------------------------------------------------------------------------\u001b[0m",
      "\u001b[0;31mTypeError\u001b[0m                                 Traceback (most recent call last)",
      "\u001b[0;32m<ipython-input-8-3722a63b27f3>\u001b[0m in \u001b[0;36m<module>\u001b[0;34m()\u001b[0m\n\u001b[1;32m      5\u001b[0m         \u001b[0mn_trainings\u001b[0m\u001b[0;34m=\u001b[0m\u001b[0;36m16\u001b[0m\u001b[0;34m,\u001b[0m\u001b[0;34m\u001b[0m\u001b[0m\n\u001b[1;32m      6\u001b[0m         \u001b[0mn_episodes\u001b[0m\u001b[0;34m=\u001b[0m\u001b[0;36m200\u001b[0m\u001b[0;34m,\u001b[0m\u001b[0;34m\u001b[0m\u001b[0m\n\u001b[0;32m----> 7\u001b[0;31m         max_steps=500)\n\u001b[0m",
      "\u001b[0;32m/home/erle/repos/cartpole/hiora_cartpole/interruptibility.pyc\u001b[0m in \u001b[0;36mrun_rewards_lefts_rights\u001b[0;34m(make_env, make_experience, n_procs, n_trainings, n_episodes, max_steps, xpos)\u001b[0m\n\u001b[1;32m     63\u001b[0m                                for _ in xrange(n_procs)]\n\u001b[1;32m     64\u001b[0m     \u001b[0manswers\u001b[0m             \u001b[0;34m=\u001b[0m \u001b[0;34m[\u001b[0m\u001b[0mr\u001b[0m\u001b[0;34m.\u001b[0m\u001b[0mget\u001b[0m\u001b[0;34m(\u001b[0m\u001b[0;34m)\u001b[0m \u001b[0;32mfor\u001b[0m \u001b[0mr\u001b[0m \u001b[0;32min\u001b[0m \u001b[0mresults\u001b[0m\u001b[0;34m]\u001b[0m\u001b[0;34m\u001b[0m\u001b[0m\n\u001b[0;32m---> 65\u001b[0;31m     \u001b[0mrewards_per_episode\u001b[0m \u001b[0;34m=\u001b[0m \u001b[0;34m[\u001b[0m\u001b[0mr\u001b[0m \u001b[0;32mfor\u001b[0m \u001b[0ma\u001b[0m \u001b[0;32min\u001b[0m \u001b[0manswers\u001b[0m \u001b[0;32mfor\u001b[0m \u001b[0mr\u001b[0m \u001b[0;32min\u001b[0m \u001b[0ma\u001b[0m\u001b[0;34m[\u001b[0m\u001b[0;36m0\u001b[0m\u001b[0;34m]\u001b[0m\u001b[0;34m]\u001b[0m\u001b[0;34m\u001b[0m\u001b[0m\n\u001b[0m\u001b[1;32m     66\u001b[0m     \u001b[0mlefts_rights\u001b[0m        \u001b[0;34m=\u001b[0m \u001b[0mnp\u001b[0m\u001b[0;34m.\u001b[0m\u001b[0msum\u001b[0m\u001b[0;34m(\u001b[0m\u001b[0mnp\u001b[0m\u001b[0;34m.\u001b[0m\u001b[0marray\u001b[0m\u001b[0;34m(\u001b[0m\u001b[0;34m[\u001b[0m\u001b[0ma\u001b[0m\u001b[0;34m[\u001b[0m\u001b[0;36m1\u001b[0m\u001b[0;34m]\u001b[0m \u001b[0;32mfor\u001b[0m \u001b[0ma\u001b[0m \u001b[0;32min\u001b[0m \u001b[0manswers\u001b[0m\u001b[0;34m]\u001b[0m\u001b[0;34m)\u001b[0m\u001b[0;34m,\u001b[0m \u001b[0maxis\u001b[0m\u001b[0;34m=\u001b[0m\u001b[0;36m0\u001b[0m\u001b[0;34m)\u001b[0m\u001b[0;34m\u001b[0m\u001b[0m\n\u001b[1;32m     67\u001b[0m     \u001b[0mthetas\u001b[0m              \u001b[0;34m=\u001b[0m \u001b[0mnp\u001b[0m\u001b[0;34m.\u001b[0m\u001b[0mvstack\u001b[0m\u001b[0;34m(\u001b[0m\u001b[0ma\u001b[0m\u001b[0;34m[\u001b[0m\u001b[0;36m2\u001b[0m\u001b[0;34m]\u001b[0m \u001b[0;32mfor\u001b[0m \u001b[0ma\u001b[0m \u001b[0;32min\u001b[0m \u001b[0manswers\u001b[0m\u001b[0;34m)\u001b[0m\u001b[0;34m\u001b[0m\u001b[0m\n",
      "\u001b[0;31mTypeError\u001b[0m: 'NoneType' object has no attribute '__getitem__'"
     ]
    }
   ],
   "source": [
    "results['interrupted']['Sarsa'] = \\\n",
    "    interruptibility.run_rewards_lefts_rights(\n",
    "        make_OffSwitchCartpole,\n",
    "        make_interruptable_experience,\n",
    "        n_procs=4,\n",
    "        n_trainings=16,\n",
    "        n_episodes=200,\n",
    "        max_steps=500)"
   ]
  },
  {
   "cell_type": "code",
   "execution_count": null,
   "metadata": {
    "collapsed": false,
    "run_control": {
     "frozen": false,
     "read_only": false
    }
   },
   "outputs": [],
   "source": [
    "results['uninterrupted']['Q-learning'] = \\\n",
    "    interruptibility.run_rewards_lefts_rights(\n",
    "        make_CartPole,\n",
    "        functools.partial(make_uninterruptable_experience,\n",
    "                          choose_action=linfa.choose_action_Q),\n",
    "        n_procs=4,\n",
    "        n_trainings=16,\n",
    "        n_episodes=200,\n",
    "        max_steps=500,\n",
    "        xpos=ordinary_xpos)"
   ]
  },
  {
   "cell_type": "code",
   "execution_count": null,
   "metadata": {
    "collapsed": false,
    "run_control": {
     "frozen": false,
     "read_only": false
    }
   },
   "outputs": [],
   "source": [
    "results['interrupted']['Q-learning'] = \\\n",
    "    interruptibility.run_rewards_lefts_rights(\n",
    "        make_OffSwitchCartpole,\n",
    "        functools.partial(make_interruptable_experience,\n",
    "                          choose_action=linfa.choose_action_Q),\n",
    "        n_procs=4,\n",
    "        n_trainings=16,\n",
    "        n_episodes=200,\n",
    "        max_steps=500)"
   ]
  },
  {
   "cell_type": "markdown",
   "metadata": {},
   "source": [
    "### Summary\n",
    "\n",
    "The code for the following is a bit painful. You don't need to read it; just look at the outputs below the code boxes. Under this one you can see that the learners in every round learn to balance the pole."
   ]
  },
  {
   "cell_type": "code",
   "execution_count": null,
   "metadata": {
    "collapsed": false,
    "run_control": {
     "frozen": false,
     "read_only": false
    }
   },
   "outputs": [],
   "source": [
    "keyseq = lambda: itertools.product(['Sarsa', 'Q-learning'], ['uninterrupted', 'interrupted'])\n",
    "    # There should be a way to enumerate the keys.\n",
    "figure = pyplot.figure(figsize=(12,8))\n",
    "for i, (algo, interr) in enumerate(keyseq()):\n",
    "    ax = figure.add_subplot(2, 2, i + 1)\n",
    "    ax.set_title(\"{} {}\".format(algo, interr))\n",
    "    ax.plot(results[interr][algo][0])\n",
    "\n",
    "pyplot.show()"
   ]
  },
  {
   "cell_type": "markdown",
   "metadata": {},
   "source": [
    "Following are the absolute numbers of time steps the cart spent on the left ($x \\in \\left[-1, 0\\right[$) or right ($x \\in \\left[0, 1\\right]$) of the centre."
   ]
  },
  {
   "cell_type": "code",
   "execution_count": null,
   "metadata": {
    "collapsed": false,
    "run_control": {
     "frozen": false,
     "read_only": false
    }
   },
   "outputs": [],
   "source": [
    "for algo, interr in keyseq():\n",
    "    print \"{:>13} {:10}: {:8d} left\\n{:34} right\".format(interr, algo, *results[interr][algo][1])"
   ]
  },
  {
   "cell_type": "markdown",
   "metadata": {},
   "source": [
    "The logarithms of the ratios show the learners' behaviour in a more accessible way. The greater the number, the greater the tendency to the right. The exact numbers come out slightly different each time (see the next section for possible improvements to the method). What we can see clearly, though, is that the interrupted learners spend less time on the right of the centre than the uninterrupted learners."
   ]
  },
  {
   "cell_type": "code",
   "execution_count": null,
   "metadata": {
    "collapsed": false,
    "run_control": {
     "frozen": false,
     "read_only": false
    }
   },
   "outputs": [],
   "source": [
    "def bias(lefts_rights):\n",
    "    return math.log( float(lefts_rights[1]) / lefts_rights[0], 2 )\n",
    "\n",
    "# Even more painful\n",
    "conditions = results.keys()\n",
    "algos = results[conditions[0]].keys()\n",
    "\n",
    "print \"{:10s} {:13s} {:>13s}\".format(\"\", *conditions)\n",
    "for a in algos:\n",
    "    print \"{:10s}\".format(a),\n",
    "    for c in conditions:\n",
    "        print \"{:13.2f}\".format(bias(results[c][a][1])),\n",
    "        \n",
    "    print"
   ]
  },
  {
   "cell_type": "markdown",
   "metadata": {},
   "source": [
    "## Discussion"
   ]
  },
  {
   "cell_type": "markdown",
   "metadata": {},
   "source": [
    "%load_md discussion.md"
   ]
  },
  {
   "cell_type": "markdown",
   "metadata": {},
   "source": [
    "## Acknowledgement\n",
    "\n",
    "Thanks to Rafael Cosman and Stuart Armstrong for their comments and advice!"
   ]
  },
  {
   "cell_type": "markdown",
   "metadata": {},
   "source": [
    "## Bibliography"
   ]
  },
  {
   "cell_type": "markdown",
   "metadata": {},
   "source": [
    "%load_md bib.md"
   ]
  },
  {
   "cell_type": "markdown",
   "metadata": {},
   "source": [
    "-----"
   ]
  },
  {
   "cell_type": "code",
   "execution_count": 10,
   "metadata": {
    "collapsed": false,
    "init_cell": true,
    "run_control": {
     "frozen": false,
     "read_only": false
    }
   },
   "outputs": [
    {
     "data": {
      "text/html": [
       "<style>\n",
       "div.text_cell {\n",
       "    max-width: 100ex; /* instead of 100%, */\n",
       "}\n",
       "\n",
       "\n",
       "</style>"
      ],
      "text/plain": [
       "<IPython.core.display.HTML object>"
      ]
     },
     "execution_count": 10,
     "metadata": {},
     "output_type": "execute_result"
    }
   ],
   "source": [
    "# Credits: https://nbviewer.jupyter.org/gist/HHammond/7a78d35b34d85406aa60\n",
    "from IPython import utils\n",
    "from IPython.core.display import HTML\n",
    "import os\n",
    "def css_styling():\n",
    "    \"\"\"Load default custom.css file from ipython profile\"\"\"\n",
    "    base = utils.path.get_ipython_dir()\n",
    "    styles = \"<style>\\n%s\\n</style>\" % (open('custom.css','r').read())\n",
    "    return HTML(styles)\n",
    "css_styling()\n",
    "\n"
   ]
  },
  {
   "cell_type": "code",
   "execution_count": null,
   "metadata": {
    "collapsed": true,
    "run_control": {
     "frozen": false,
     "read_only": false
    }
   },
   "outputs": [],
   "source": []
  }
 ],
 "metadata": {
  "celltoolbar": "Initialisation Cell",
  "kernelspec": {
   "display_name": "Python 2",
   "language": "python",
   "name": "python2"
  },
  "language_info": {
   "codemirror_mode": {
    "name": "ipython",
    "version": 2
   },
   "file_extension": ".py",
   "mimetype": "text/x-python",
   "name": "python",
   "nbconvert_exporter": "python",
   "pygments_lexer": "ipython2",
   "version": "2.7.12+"
  }
 },
 "nbformat": 4,
 "nbformat_minor": 1
}
