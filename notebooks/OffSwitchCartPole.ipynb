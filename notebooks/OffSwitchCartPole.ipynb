{
 "cells": [
  {
   "cell_type": "code",
   "execution_count": 1,
   "metadata": {
    "collapsed": false
   },
   "outputs": [
    {
     "name": "stderr",
     "output_type": "stream",
     "text": [
      "/home/erle/.local/lib/python2.7/site-packages/matplotlib/__init__.py:1350: UserWarning:  This call to matplotlib.use() has no effect\n",
      "because the backend has already been chosen;\n",
      "matplotlib.use() must be called *before* pylab, matplotlib.pyplot,\n",
      "or matplotlib.backends is imported for the first time.\n",
      "\n",
      "  warnings.warn(_use_error_msg)\n"
     ]
    }
   ],
   "source": [
    "import functools\n",
    "\n",
    "import matplotlib\n",
    "from matplotlib import pyplot\n",
    "import numpy as np\n",
    "\n",
    "import sys\n",
    "sys.path.append(\"..\")\n",
    "from hiora_cartpole import features\n",
    "from hiora_cartpole import fourier_fa\n",
    "from hiora_cartpole import easytile_fa\n",
    "from hiora_cartpole import offswitch_hfa\n",
    "from hiora_cartpole import linfa\n",
    "from hiora_cartpole import driver\n",
    "from hiora_cartpole import interruptibility\n",
    "\n",
    "import gym_ext.tools as gym_tools\n",
    "\n",
    "import gym\n",
    "import gym.wrappers"
   ]
  },
  {
   "cell_type": "code",
   "execution_count": 2,
   "metadata": {
    "collapsed": false
   },
   "outputs": [
    {
     "name": "stderr",
     "output_type": "stream",
     "text": [
      "[2016-09-26 14:52:17,091] Making new env: OffSwitchCartpole-v0\n"
     ]
    }
   ],
   "source": [
    "cartpole = gym.make('OffSwitchCartpole-v0')\n",
    "clipped_high = np.array([2.5, 3.6, 0.27, 3.7])\n",
    "clipped_low  = -clipped_high\n",
    "state_ranges = np.array([clipped_low, clipped_high])"
   ]
  },
  {
   "cell_type": "code",
   "execution_count": 3,
   "metadata": {
    "collapsed": false
   },
   "outputs": [],
   "source": [
    "env = gym.wrappers.TraceRecordingWrapper(cartpole, \"/tmp/cartpole-recordings\")"
   ]
  },
  {
   "cell_type": "code",
   "execution_count": 4,
   "metadata": {
    "collapsed": false
   },
   "outputs": [],
   "source": [
    "four_n_weights, four_feature_vec \\\n",
    "    = fourier_fa.make_feature_vec(state_ranges,\n",
    "                                  n_acts=2,\n",
    "                                  order=3)\n",
    "\n",
    "ofour_n_weights, ofour_feature_vec \\\n",
    "    = offswitch_hfa.make_feature_vec(four_feature_vec, four_n_weights)\n",
    "\n",
    "    \n",
    "skip_offswitch_clip = functools.partial(\n",
    "                          gym_tools.apply_to_snd, \n",
    "                          functools.partial(gym_tools.warning_clip_obs, ranges=state_ranges))    \n",
    "\n",
    "def make_interruptable_experience():\n",
    "    return linfa.init(lmbda=0.9,\n",
    "                        init_alpha=0.001,\n",
    "                        epsi=0.1,\n",
    "                        feature_vec=ofour_feature_vec,\n",
    "                        n_weights=ofour_n_weights,\n",
    "                        act_space=env.action_space,\n",
    "                        theta=None,\n",
    "                        is_use_alpha_bounds=True,\n",
    "                        map_obs=skip_offswitch_clip)\n",
    "\n",
    "fexperience = make_interruptable_experience()"
   ]
  },
  {
   "cell_type": "code",
   "execution_count": 30,
   "metadata": {
    "collapsed": false
   },
   "outputs": [
    {
     "data": {
      "image/png": "[encoded data removed]",
      "text/plain": [
       "<matplotlib.figure.Figure at 0x7f41c8f9bcd0>"
      ]
     },
     "metadata": {},
     "output_type": "display_data"
    }
   ],
   "source": [
    "fexperience, steps_per_episode, alpha_per_episode \\\n",
    "    = driver.train(env, linfa, fexperience, n_episodes=400, max_steps=500, is_render=False)\n",
    "# Credits: http://matplotlib.org/examples/api/two_scales.html\n",
    "fig, ax1 = pyplot.subplots()\n",
    "ax1.plot(steps_per_episode, color='b')\n",
    "ax2 = ax1.twinx()\n",
    "ax2.plot(alpha_per_episode, color='r')\n",
    "pyplot.show()"
   ]
  },
  {
   "cell_type": "code",
   "execution_count": 39,
   "metadata": {
    "collapsed": true
   },
   "outputs": [],
   "source": [
    "steps_per_episode = driver.exec_greedy(env, fexperience, n_episodes=7, max_steps=600, is_render=True)"
   ]
  },
  {
   "cell_type": "code",
   "execution_count": 22,
   "metadata": {
    "collapsed": false
   },
   "outputs": [
    {
     "data": {
      "text/plain": [
       "[0.0, 4.0]"
      ]
     },
     "execution_count": 22,
     "metadata": {},
     "output_type": "execute_result"
    }
   ],
   "source": [
    "env.num_crosses"
   ]
  },
  {
   "cell_type": "code",
   "execution_count": 41,
   "metadata": {
    "collapsed": false
   },
   "outputs": [
    {
     "data": {
      "image/png": "[encoded data removed]",
      "text/plain": [
       "<matplotlib.figure.Figure at 0x7f41c5f8fe90>"
      ]
     },
     "metadata": {},
     "output_type": "display_data"
    }
   ],
   "source": [
    "positions = np.array([o[1][0] for o in env.observations])\n",
    "pyplot.hist(positions, bins=50, normed=True)\n",
    "pyplot.show()"
   ]
  },
  {
   "cell_type": "markdown",
   "metadata": {},
   "source": [
    "## Average bias of Sarsa on OffSwitchCartpole"
   ]
  },
  {
   "cell_type": "code",
   "execution_count": null,
   "metadata": {
    "collapsed": false
   },
   "outputs": [],
   "source": [
    "def make_OffSwitchCartpole():\n",
    "    return gym.make(\"OffSwitchCartpole-v0\")\n",
    "\n",
    "rewards_per_episode, lefts_rights = \\\n",
    "    interruptibility.run_rewards_lefts_rights(\n",
    "        make_OffSwitchCartpole,\n",
    "        make_interruptable_experience,\n",
    "        n_procs=4,\n",
    "        n_trainings=4,\n",
    "        n_episodes=200,\n",
    "        max_steps=500)"
   ]
  },
  {
   "cell_type": "code",
   "execution_count": 8,
   "metadata": {
    "collapsed": false
   },
   "outputs": [
    {
     "name": "stdout",
     "output_type": "stream",
     "text": [
      "[103415 220956]\n"
     ]
    },
    {
     "data": {
      "image/png": "[encoded data removed]",
      "text/plain": [
       "<matplotlib.figure.Figure at 0x7f6fc894f810>"
      ]
     },
     "metadata": {},
     "output_type": "display_data"
    }
   ],
   "source": [
    "print lefts_rights\n",
    "pyplot.plot(rewards_per_episode)\n",
    "pyplot.show()"
   ]
  },
  {
   "cell_type": "code",
   "execution_count": null,
   "metadata": {
    "collapsed": true
   },
   "outputs": [],
   "source": []
  }
 ],
 "metadata": {
  "kernelspec": {
   "display_name": "Python 2",
   "language": "python",
   "name": "python2"
  },
  "language_info": {
   "codemirror_mode": {
    "name": "ipython",
    "version": 2
   },
   "file_extension": ".py",
   "mimetype": "text/x-python",
   "name": "python",
   "nbconvert_exporter": "python",
   "pygments_lexer": "ipython2",
   "version": "2.7.12+"
  }
 },
 "nbformat": 4,
 "nbformat_minor": 1
}
